{
 "cells": [
  {
   "cell_type": "code",
   "execution_count": 3,
   "id": "1d931c8d-4acc-4cc2-98eb-af56e18948ec",
   "metadata": {},
   "outputs": [],
   "source": [
    "li= [22,10,14,50,[9,2.5,'porosity',11], 101,52,14]"
   ]
  },
  {
   "cell_type": "code",
   "execution_count": 5,
   "id": "57aed960-c950-4cfc-9863-78beb76af7a5",
   "metadata": {},
   "outputs": [
    {
     "data": {
      "text/plain": [
       "[22, 10, 14, 50, [9, 2.5, 'porosity', 11], 101, 52, 14]"
      ]
     },
     "execution_count": 5,
     "metadata": {},
     "output_type": "execute_result"
    }
   ],
   "source": [
    "li"
   ]
  },
  {
   "cell_type": "code",
   "execution_count": 9,
   "id": "35884728-824b-4e00-a541-cb0394e70939",
   "metadata": {},
   "outputs": [
    {
     "data": {
      "text/plain": [
       "50"
      ]
     },
     "execution_count": 9,
     "metadata": {},
     "output_type": "execute_result"
    }
   ],
   "source": [
    "li[3]"
   ]
  },
  {
   "cell_type": "code",
   "execution_count": 11,
   "id": "b3e5fa50-6e3a-4ff1-a56e-4c76effd1dab",
   "metadata": {},
   "outputs": [
    {
     "data": {
      "text/plain": [
       "[9, 2.5, 'porosity', 11]"
      ]
     },
     "execution_count": 11,
     "metadata": {},
     "output_type": "execute_result"
    }
   ],
   "source": [
    "li[4]"
   ]
  },
  {
   "cell_type": "code",
   "execution_count": 13,
   "id": "e998b375-44e7-4fff-9198-f1f55f2b781d",
   "metadata": {},
   "outputs": [
    {
     "data": {
      "text/plain": [
       "'porosity'"
      ]
     },
     "execution_count": 13,
     "metadata": {},
     "output_type": "execute_result"
    }
   ],
   "source": [
    "li[4][2]"
   ]
  },
  {
   "cell_type": "code",
   "execution_count": 30,
   "id": "9432f01e-a1c8-45eb-a94d-0521b2b957a9",
   "metadata": {},
   "outputs": [
    {
     "data": {
      "text/plain": [
       "[22,\n",
       " 10,\n",
       " 14,\n",
       " 50,\n",
       " [9, 2.5, 'porosity', 11],\n",
       " 101,\n",
       " 52,\n",
       " 14,\n",
       " 99,\n",
       " 99,\n",
       " 99,\n",
       " 99,\n",
       " 101,\n",
       " 99]"
      ]
     },
     "execution_count": 30,
     "metadata": {},
     "output_type": "execute_result"
    }
   ],
   "source": [
    "li.append(99)\n",
    "li"
   ]
  },
  {
   "cell_type": "code",
   "execution_count": 32,
   "id": "b78dcf8b-001d-4ac4-ab9c-58f7078cd741",
   "metadata": {},
   "outputs": [
    {
     "data": {
      "text/plain": [
       "[22,\n",
       " 10,\n",
       " 14,\n",
       " 50,\n",
       " [9, 2.5, 'porosity', 11],\n",
       " 101,\n",
       " 52,\n",
       " 14,\n",
       " 99,\n",
       " 99,\n",
       " 99,\n",
       " 99,\n",
       " 101,\n",
       " 99]"
      ]
     },
     "execution_count": 32,
     "metadata": {},
     "output_type": "execute_result"
    }
   ],
   "source": [
    "li"
   ]
  },
  {
   "cell_type": "code",
   "execution_count": 34,
   "id": "094e9687-d4a2-4e1b-b758-94b433a4e287",
   "metadata": {},
   "outputs": [],
   "source": [
    "li.append(101)"
   ]
  },
  {
   "cell_type": "code",
   "execution_count": 36,
   "id": "ff3a39b5-79cd-45a2-b0ef-c4af3b0386d2",
   "metadata": {},
   "outputs": [
    {
     "data": {
      "text/plain": [
       "[22,\n",
       " 10,\n",
       " 14,\n",
       " 50,\n",
       " [9, 2.5, 'porosity', 11],\n",
       " 101,\n",
       " 52,\n",
       " 14,\n",
       " 99,\n",
       " 99,\n",
       " 99,\n",
       " 99,\n",
       " 101,\n",
       " 99,\n",
       " 101]"
      ]
     },
     "execution_count": 36,
     "metadata": {},
     "output_type": "execute_result"
    }
   ],
   "source": [
    "li"
   ]
  },
  {
   "cell_type": "markdown",
   "id": "78bb160b-2b1d-4b82-b219-0fe04fe7cd03",
   "metadata": {},
   "source": [
    "## Slicing\n",
    "\n",
    "# list[start:stop:step]\n",
    "# last stop is excluded"
   ]
  },
  {
   "cell_type": "code",
   "execution_count": 38,
   "id": "538c9d49-1b03-4694-8149-2409b720d518",
   "metadata": {},
   "outputs": [
    {
     "data": {
      "text/plain": [
       "[14, 50]"
      ]
     },
     "execution_count": 38,
     "metadata": {},
     "output_type": "execute_result"
    }
   ],
   "source": [
    "li[2:4]"
   ]
  },
  {
   "cell_type": "code",
   "execution_count": 40,
   "id": "f19914eb-5c4d-46bb-8233-8acde18e2d50",
   "metadata": {},
   "outputs": [
    {
     "data": {
      "text/plain": [
       "[10, 14, 50, [9, 2.5, 'porosity', 11], 101]"
      ]
     },
     "execution_count": 40,
     "metadata": {},
     "output_type": "execute_result"
    }
   ],
   "source": [
    "li[1:6]"
   ]
  },
  {
   "cell_type": "code",
   "execution_count": 43,
   "id": "fe406e46-144c-4bfd-a9a9-82c07345e1b1",
   "metadata": {},
   "outputs": [
    {
     "data": {
      "text/plain": [
       "[14, 50, [9, 2.5, 'porosity', 11], 101, 52, 14, 99, 99, 99, 99, 101, 99, 101]"
      ]
     },
     "execution_count": 43,
     "metadata": {},
     "output_type": "execute_result"
    }
   ],
   "source": [
    "li[2:]"
   ]
  },
  {
   "cell_type": "code",
   "execution_count": 45,
   "id": "f19dab85-717b-4a01-ac20-2654b0c43ca5",
   "metadata": {},
   "outputs": [
    {
     "data": {
      "text/plain": [
       "[22,\n",
       " 10,\n",
       " 14,\n",
       " 50,\n",
       " [9, 2.5, 'porosity', 11],\n",
       " 101,\n",
       " 52,\n",
       " 14,\n",
       " 99,\n",
       " 99,\n",
       " 99,\n",
       " 99,\n",
       " 101,\n",
       " 99,\n",
       " 101]"
      ]
     },
     "execution_count": 45,
     "metadata": {},
     "output_type": "execute_result"
    }
   ],
   "source": [
    "li[0:]"
   ]
  },
  {
   "cell_type": "code",
   "execution_count": 47,
   "id": "71275c2a-63de-4062-8710-1a392f7867b2",
   "metadata": {},
   "outputs": [
    {
     "data": {
      "text/plain": [
       "[101]"
      ]
     },
     "execution_count": 47,
     "metadata": {},
     "output_type": "execute_result"
    }
   ],
   "source": [
    "li[-1:]"
   ]
  },
  {
   "cell_type": "code",
   "execution_count": 70,
   "id": "63b7eba9-6a62-4708-877a-e19f987f3de5",
   "metadata": {},
   "outputs": [
    {
     "data": {
      "text/plain": [
       "[22,\n",
       " 10,\n",
       " 14,\n",
       " 50,\n",
       " [9, 2.5, 'porosity', 11],\n",
       " 101,\n",
       " 52,\n",
       " 14,\n",
       " 99,\n",
       " 99,\n",
       " 99,\n",
       " 99,\n",
       " 101,\n",
       " 99,\n",
       " 101]"
      ]
     },
     "execution_count": 70,
     "metadata": {},
     "output_type": "execute_result"
    }
   ],
   "source": [
    "li[::]"
   ]
  },
  {
   "cell_type": "code",
   "execution_count": 65,
   "id": "16f82698-8072-4b67-a922-27d0ea3481b9",
   "metadata": {},
   "outputs": [
    {
     "data": {
      "text/plain": [
       "[]"
      ]
     },
     "execution_count": 65,
     "metadata": {},
     "output_type": "execute_result"
    }
   ],
   "source": [
    "li[-1:-2]"
   ]
  },
  {
   "cell_type": "code",
   "execution_count": 68,
   "id": "e3bf4460-c8dd-4f27-8f67-10e57adf049e",
   "metadata": {},
   "outputs": [
    {
     "data": {
      "text/plain": [
       "[]"
      ]
     },
     "execution_count": 68,
     "metadata": {},
     "output_type": "execute_result"
    }
   ],
   "source": [
    "li[-1:-5:2]"
   ]
  },
  {
   "cell_type": "code",
   "execution_count": 72,
   "id": "f2853df9-6392-4658-a75b-54c1ce94f225",
   "metadata": {},
   "outputs": [
    {
     "data": {
      "text/plain": [
       "[22,\n",
       " 10,\n",
       " 14,\n",
       " 50,\n",
       " [9, 2.5, 'porosity', 11],\n",
       " 101,\n",
       " 52,\n",
       " 14,\n",
       " 99,\n",
       " 99,\n",
       " 99,\n",
       " 99,\n",
       " 101,\n",
       " 99,\n",
       " 101]"
      ]
     },
     "execution_count": 72,
     "metadata": {},
     "output_type": "execute_result"
    }
   ],
   "source": [
    "li"
   ]
  },
  {
   "cell_type": "code",
   "execution_count": 74,
   "id": "55635eab-0219-41ce-986e-b473e5a5aac0",
   "metadata": {},
   "outputs": [
    {
     "data": {
      "text/plain": [
       "[22, 10, 14]"
      ]
     },
     "execution_count": 74,
     "metadata": {},
     "output_type": "execute_result"
    }
   ],
   "source": [
    "li[:3]"
   ]
  },
  {
   "cell_type": "code",
   "execution_count": 76,
   "id": "f7779d34-3645-4b5e-a4de-9309b98e51c1",
   "metadata": {},
   "outputs": [
    {
     "data": {
      "text/plain": [
       "[22, 14, [9, 2.5, 'porosity', 11], 52, 99, 99, 101, 101]"
      ]
     },
     "execution_count": 76,
     "metadata": {},
     "output_type": "execute_result"
    }
   ],
   "source": [
    "li[::2]"
   ]
  },
  {
   "cell_type": "code",
   "execution_count": 78,
   "id": "72e9cd88-7c9b-4007-ad32-095a2a670869",
   "metadata": {},
   "outputs": [],
   "source": [
    "perm=[22, 14, [9, 2.5, 'porosity', 11], 52, 99,16, 101]\n"
   ]
  },
  {
   "cell_type": "code",
   "execution_count": 80,
   "id": "b533d31c-23b5-4b15-aa54-40342e1797f8",
   "metadata": {},
   "outputs": [
    {
     "data": {
      "text/plain": [
       "[22, 14, [9, 2.5, 'porosity', 11], 52, 99, 16, 101]"
      ]
     },
     "execution_count": 80,
     "metadata": {},
     "output_type": "execute_result"
    }
   ],
   "source": [
    "perm"
   ]
  },
  {
   "cell_type": "code",
   "execution_count": 82,
   "id": "4b05381c-2de0-4d1b-8914-163c8f5eb4ab",
   "metadata": {},
   "outputs": [
    {
     "data": {
      "text/plain": [
       "list"
      ]
     },
     "execution_count": 82,
     "metadata": {},
     "output_type": "execute_result"
    }
   ],
   "source": [
    "type(perm)"
   ]
  },
  {
   "cell_type": "code",
   "execution_count": 84,
   "id": "20ace07f-3b57-42a6-9e27-41e10bc3e71b",
   "metadata": {},
   "outputs": [
    {
     "data": {
      "text/plain": [
       "[22, [9, 2.5, 'porosity', 11], 99, 101]"
      ]
     },
     "execution_count": 84,
     "metadata": {},
     "output_type": "execute_result"
    }
   ],
   "source": [
    "perm[::2]"
   ]
  },
  {
   "cell_type": "code",
   "execution_count": 86,
   "id": "d2f6914e-94d2-434a-839a-c1f756c6befb",
   "metadata": {},
   "outputs": [
    {
     "data": {
      "text/plain": [
       "[14, 52, 16]"
      ]
     },
     "execution_count": 86,
     "metadata": {},
     "output_type": "execute_result"
    }
   ],
   "source": [
    "perm[1::2]"
   ]
  },
  {
   "cell_type": "code",
   "execution_count": 88,
   "id": "cf3e8bbe-f862-450d-908f-df950b9d73a0",
   "metadata": {},
   "outputs": [
    {
     "data": {
      "text/plain": [
       "[[9, 2.5, 'porosity', 11], 16]"
      ]
     },
     "execution_count": 88,
     "metadata": {},
     "output_type": "execute_result"
    }
   ],
   "source": [
    "perm[2::3]"
   ]
  },
  {
   "cell_type": "code",
   "execution_count": 91,
   "id": "7aa44219-f494-40c9-935b-e3e805541678",
   "metadata": {},
   "outputs": [
    {
     "data": {
      "text/plain": [
       "[99]"
      ]
     },
     "execution_count": 91,
     "metadata": {},
     "output_type": "execute_result"
    }
   ],
   "source": [
    "perm[4:-2]"
   ]
  },
  {
   "cell_type": "code",
   "execution_count": 93,
   "id": "840e3791-26fa-4706-8b60-e81655b764d3",
   "metadata": {},
   "outputs": [
    {
     "data": {
      "text/plain": [
       "[22, 14, [9, 2.5, 'porosity', 11], 52, 99, 16, 101]"
      ]
     },
     "execution_count": 93,
     "metadata": {},
     "output_type": "execute_result"
    }
   ],
   "source": [
    "perm"
   ]
  },
  {
   "cell_type": "code",
   "execution_count": 97,
   "id": "a6ea4bda-2a95-4b04-9af3-584ef0af6748",
   "metadata": {},
   "outputs": [],
   "source": [
    "perm.append(202)"
   ]
  },
  {
   "cell_type": "code",
   "execution_count": 99,
   "id": "963027d5-4947-40a3-955a-4cad831bf5c3",
   "metadata": {},
   "outputs": [
    {
     "data": {
      "text/plain": [
       "[22, 14, [9, 2.5, 'porosity', 11], 52, 99, 16, 101, 202]"
      ]
     },
     "execution_count": 99,
     "metadata": {},
     "output_type": "execute_result"
    }
   ],
   "source": [
    "perm"
   ]
  },
  {
   "cell_type": "code",
   "execution_count": 101,
   "id": "0cdefb0d-722f-4427-ae1f-026f98eb7fcd",
   "metadata": {},
   "outputs": [
    {
     "data": {
      "text/plain": [
       "[99, 16]"
      ]
     },
     "execution_count": 101,
     "metadata": {},
     "output_type": "execute_result"
    }
   ],
   "source": [
    "perm[4:-2]"
   ]
  },
  {
   "cell_type": "code",
   "execution_count": 103,
   "id": "f1265a2a-7322-43f1-8c4c-24824d7eeb3c",
   "metadata": {},
   "outputs": [
    {
     "data": {
      "text/plain": [
       "[202, 101, 16, 99, 52, [9, 2.5, 'porosity', 11], 14, 22]"
      ]
     },
     "execution_count": 103,
     "metadata": {},
     "output_type": "execute_result"
    }
   ],
   "source": [
    "perm[::-1]"
   ]
  },
  {
   "cell_type": "code",
   "execution_count": 105,
   "id": "3a8844bf-14da-45f3-b734-ce1db430e4ca",
   "metadata": {},
   "outputs": [
    {
     "data": {
      "text/plain": [
       "[101, 16, 99, 52]"
      ]
     },
     "execution_count": 105,
     "metadata": {},
     "output_type": "execute_result"
    }
   ],
   "source": [
    "perm[6:2:-1]"
   ]
  },
  {
   "cell_type": "code",
   "execution_count": 107,
   "id": "128d8e18-7833-4c53-a6fc-e737b08e27d4",
   "metadata": {},
   "outputs": [
    {
     "data": {
      "text/plain": [
       "[22, 14, [9, 2.5, 'porosity', 11], 52, 99, 16, 101, 202]"
      ]
     },
     "execution_count": 107,
     "metadata": {},
     "output_type": "execute_result"
    }
   ],
   "source": [
    "perm"
   ]
  },
  {
   "cell_type": "code",
   "execution_count": 109,
   "id": "5c084824-d1cc-4f4c-ab4d-30950a063ed8",
   "metadata": {},
   "outputs": [
    {
     "data": {
      "text/plain": [
       "[101, 16, 99, 52]"
      ]
     },
     "execution_count": 109,
     "metadata": {},
     "output_type": "execute_result"
    }
   ],
   "source": [
    "perm[6:2:-1]"
   ]
  },
  {
   "cell_type": "code",
   "execution_count": 113,
   "id": "bb81327c-09ce-44d5-8803-6b7a2ab09b30",
   "metadata": {},
   "outputs": [
    {
     "data": {
      "text/plain": [
       "[[9, 2.5, 'porosity', 11], 99]"
      ]
     },
     "execution_count": 113,
     "metadata": {},
     "output_type": "execute_result"
    }
   ],
   "source": [
    "perm[2:6:+2]"
   ]
  },
  {
   "cell_type": "code",
   "execution_count": 121,
   "id": "2749d1c0-411e-4d36-9544-84c5621f4040",
   "metadata": {},
   "outputs": [
    {
     "data": {
      "text/plain": [
       "[22, 14, [9, 2.5, 'porosity', 11], 52, 99, 16, 101, 202]"
      ]
     },
     "execution_count": 121,
     "metadata": {},
     "output_type": "execute_result"
    }
   ],
   "source": [
    "perm"
   ]
  },
  {
   "cell_type": "code",
   "execution_count": 127,
   "id": "dd512b0f-3ab6-489e-b079-6fc4e4f9e075",
   "metadata": {},
   "outputs": [
    {
     "data": {
      "text/plain": [
       "[[9, 2.5, 'porosity', 11], 99]"
      ]
     },
     "execution_count": 127,
     "metadata": {},
     "output_type": "execute_result"
    }
   ],
   "source": [
    "perm[2:6:+2]"
   ]
  },
  {
   "cell_type": "code",
   "execution_count": 129,
   "id": "829436ca-9e07-43b9-9d0a-c9f72573d039",
   "metadata": {},
   "outputs": [
    {
     "data": {
      "text/plain": [
       "[22, 14, [9, 2.5, 'porosity', 11], 52, 99, 16, 101, 202]"
      ]
     },
     "execution_count": 129,
     "metadata": {},
     "output_type": "execute_result"
    }
   ],
   "source": [
    "perm"
   ]
  },
  {
   "cell_type": "code",
   "execution_count": 131,
   "id": "0632e7d0-43fa-4531-a9f7-0e70628acecb",
   "metadata": {},
   "outputs": [
    {
     "data": {
      "text/plain": [
       "[101, 52]"
      ]
     },
     "execution_count": 131,
     "metadata": {},
     "output_type": "execute_result"
    }
   ],
   "source": [
    "perm[-2:1:-3]"
   ]
  },
  {
   "cell_type": "code",
   "execution_count": 133,
   "id": "eb5f9058-efff-47fe-813d-c7bb905d5fe5",
   "metadata": {},
   "outputs": [
    {
     "data": {
      "text/plain": [
       "[22, 14, [9, 2.5, 'porosity', 11], 52, 99, 16, 101, 202]"
      ]
     },
     "execution_count": 133,
     "metadata": {},
     "output_type": "execute_result"
    }
   ],
   "source": [
    "perm"
   ]
  },
  {
   "cell_type": "code",
   "execution_count": 139,
   "id": "1d4c634f-3280-4dc7-8531-9dfb5b33b3a4",
   "metadata": {},
   "outputs": [],
   "source": [
    "li=[22, 14, 21,55,[9, 2.5, 'porosity', ['Ghery'],11, 52,], 99, 16, 101, 202]\n"
   ]
  },
  {
   "cell_type": "code",
   "execution_count": 141,
   "id": "eb6e6cc5-9e60-4704-8ea1-d03f7d42b618",
   "metadata": {},
   "outputs": [
    {
     "data": {
      "text/plain": [
       "[22, 14, 21, 55, [9, 2.5, 'porosity', ['Ghery'], 11, 52], 99, 16, 101, 202]"
      ]
     },
     "execution_count": 141,
     "metadata": {},
     "output_type": "execute_result"
    }
   ],
   "source": [
    "li"
   ]
  },
  {
   "cell_type": "code",
   "execution_count": 143,
   "id": "4b7555dd-385c-4732-9829-cd260670b2ba",
   "metadata": {},
   "outputs": [
    {
     "data": {
      "text/plain": [
       "[9, 2.5, 'porosity', ['Ghery'], 11, 52]"
      ]
     },
     "execution_count": 143,
     "metadata": {},
     "output_type": "execute_result"
    }
   ],
   "source": [
    "li[4]"
   ]
  },
  {
   "cell_type": "code",
   "execution_count": 147,
   "id": "2305b279-6351-429d-b1cc-0046aa0f37e5",
   "metadata": {},
   "outputs": [],
   "source": [
    "new=[22, 14, 21, 55, [9, 2.5, [10,12,'porosity', ['Ghery'], 44,90,],11, 52], 99, 16, 101, 202]\n"
   ]
  },
  {
   "cell_type": "code",
   "execution_count": 149,
   "id": "baadfd6f-286a-4df9-800f-6b0b260969c6",
   "metadata": {},
   "outputs": [
    {
     "data": {
      "text/plain": [
       "[22,\n",
       " 14,\n",
       " 21,\n",
       " 55,\n",
       " [9, 2.5, [10, 12, 'porosity', ['Ghery'], 44, 90], 11, 52],\n",
       " 99,\n",
       " 16,\n",
       " 101,\n",
       " 202]"
      ]
     },
     "execution_count": 149,
     "metadata": {},
     "output_type": "execute_result"
    }
   ],
   "source": [
    "new"
   ]
  },
  {
   "cell_type": "code",
   "execution_count": 159,
   "id": "ee548da5-47a7-482f-89f5-4a7686cf81af",
   "metadata": {},
   "outputs": [
    {
     "data": {
      "text/plain": [
       "['porosity', 10]"
      ]
     },
     "execution_count": 159,
     "metadata": {},
     "output_type": "execute_result"
    }
   ],
   "source": [
    "new[4][2][2::-2]"
   ]
  },
  {
   "cell_type": "code",
   "execution_count": 161,
   "id": "ac4cc5ad-06b7-4b9d-b640-3e312d2d9e0e",
   "metadata": {},
   "outputs": [
    {
     "data": {
      "text/plain": [
       "['porosity', 10]"
      ]
     },
     "execution_count": 161,
     "metadata": {},
     "output_type": "execute_result"
    }
   ],
   "source": [
    "new[4][2][-4::-2]"
   ]
  },
  {
   "cell_type": "code",
   "execution_count": null,
   "id": "8a93fb12-b5a0-45a3-9e16-6ce6fa4c11a1",
   "metadata": {},
   "outputs": [],
   "source": []
  },
  {
   "cell_type": "code",
   "execution_count": null,
   "id": "ddeb9831-ff6b-454f-a68d-6c272c761518",
   "metadata": {},
   "outputs": [],
   "source": []
  },
  {
   "cell_type": "code",
   "execution_count": null,
   "id": "376fe0d7-bc0b-4898-ada8-674ec07c68e6",
   "metadata": {},
   "outputs": [],
   "source": []
  },
  {
   "cell_type": "code",
   "execution_count": null,
   "id": "ffe9261e-d3f8-494b-b2f1-3a407fa09904",
   "metadata": {},
   "outputs": [],
   "source": []
  },
  {
   "cell_type": "code",
   "execution_count": null,
   "id": "2abae4c3-6af3-46f9-b9d5-1637339487fc",
   "metadata": {},
   "outputs": [],
   "source": []
  }
 ],
 "metadata": {
  "kernelspec": {
   "display_name": "Python 3 (ipykernel)",
   "language": "python",
   "name": "python3"
  },
  "language_info": {
   "codemirror_mode": {
    "name": "ipython",
    "version": 3
   },
   "file_extension": ".py",
   "mimetype": "text/x-python",
   "name": "python",
   "nbconvert_exporter": "python",
   "pygments_lexer": "ipython3",
   "version": "3.11.7"
  }
 },
 "nbformat": 4,
 "nbformat_minor": 5
}
