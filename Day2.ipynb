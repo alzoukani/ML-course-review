{
 "cells": [
  {
   "cell_type": "code",
   "execution_count": null,
   "id": "9f82153b-7a74-42fd-938e-00209dfd4d27",
   "metadata": {},
   "outputs": [],
   "source": []
  },
  {
   "cell_type": "code",
   "execution_count": 1,
   "id": "2a27204c-f94e-44e3-87ec-8cf940039c3c",
   "metadata": {},
   "outputs": [
    {
     "name": "stdout",
     "output_type": "stream",
     "text": [
      "Hello WOrld\n"
     ]
    }
   ],
   "source": [
    "print(\"Hello WOrld\")"
   ]
  },
  {
   "cell_type": "code",
   "execution_count": 3,
   "id": "fcc0c680-41cf-48f0-9aaa-b9e7e4b9b3f6",
   "metadata": {},
   "outputs": [
    {
     "ename": "SyntaxError",
     "evalue": "invalid syntax (961555472.py, line 1)",
     "output_type": "error",
     "traceback": [
      "\u001b[1;36m  Cell \u001b[1;32mIn[3], line 1\u001b[1;36m\u001b[0m\n\u001b[1;33m    Hello World\u001b[0m\n\u001b[1;37m          ^\u001b[0m\n\u001b[1;31mSyntaxError\u001b[0m\u001b[1;31m:\u001b[0m invalid syntax\n"
     ]
    }
   ],
   "source": [
    "Hello World"
   ]
  },
  {
   "cell_type": "markdown",
   "id": "62be5c1d-aa1f-4193-bf9b-a59e0e797d6b",
   "metadata": {},
   "source": [
    "## Integer"
   ]
  },
  {
   "cell_type": "code",
   "execution_count": 7,
   "id": "c99f71b6-8bae-43ef-9561-2f9dd2d7c406",
   "metadata": {},
   "outputs": [
    {
     "data": {
      "text/plain": [
       "23"
      ]
     },
     "execution_count": 7,
     "metadata": {},
     "output_type": "execute_result"
    }
   ],
   "source": [
    "23"
   ]
  },
  {
   "cell_type": "markdown",
   "id": "92b18e37-c89a-4790-80c6-f0da5731438a",
   "metadata": {},
   "source": [
    "## FLOATS: decimal values"
   ]
  },
  {
   "cell_type": "code",
   "execution_count": 9,
   "id": "3a361a7c-ee90-45ba-811b-567e163f7415",
   "metadata": {},
   "outputs": [
    {
     "data": {
      "text/plain": [
       "7.0"
      ]
     },
     "execution_count": 9,
     "metadata": {},
     "output_type": "execute_result"
    }
   ],
   "source": [
    "7.0"
   ]
  },
  {
   "cell_type": "code",
   "execution_count": 11,
   "id": "38d1e32e-691e-4a3b-8c85-2bc0d464557a",
   "metadata": {},
   "outputs": [
    {
     "data": {
      "text/plain": [
       "7"
      ]
     },
     "execution_count": 11,
     "metadata": {},
     "output_type": "execute_result"
    }
   ],
   "source": [
    "7"
   ]
  },
  {
   "cell_type": "code",
   "execution_count": 13,
   "id": "f6d735d8-ce66-424b-819b-f8758ac7f9bb",
   "metadata": {},
   "outputs": [
    {
     "name": "stdout",
     "output_type": "stream",
     "text": [
      "7.6\n"
     ]
    }
   ],
   "source": [
    "print(\"7.6\")"
   ]
  },
  {
   "cell_type": "code",
   "execution_count": 15,
   "id": "04b631d0-2b46-4171-a92a-0f7faed07b12",
   "metadata": {},
   "outputs": [
    {
     "data": {
      "text/plain": [
       "int"
      ]
     },
     "execution_count": 15,
     "metadata": {},
     "output_type": "execute_result"
    }
   ],
   "source": [
    "type(7)"
   ]
  },
  {
   "cell_type": "code",
   "execution_count": 17,
   "id": "bb13a809-cffc-42ca-800e-eada7bd86009",
   "metadata": {},
   "outputs": [
    {
     "data": {
      "text/plain": [
       "float"
      ]
     },
     "execution_count": 17,
     "metadata": {},
     "output_type": "execute_result"
    }
   ],
   "source": [
    "type(4.0)"
   ]
  },
  {
   "cell_type": "markdown",
   "id": "7a843df4-c4b7-43b4-90f0-af8ae3219756",
   "metadata": {},
   "source": [
    "## String"
   ]
  },
  {
   "cell_type": "code",
   "execution_count": 23,
   "id": "cb0359a1-3e2f-4649-b676-ad02150376cc",
   "metadata": {},
   "outputs": [
    {
     "data": {
      "text/plain": [
       "'porosity'"
      ]
     },
     "execution_count": 23,
     "metadata": {},
     "output_type": "execute_result"
    }
   ],
   "source": [
    "\"porosity\""
   ]
  },
  {
   "cell_type": "code",
   "execution_count": 25,
   "id": "4ea4c0ef-810a-4cf9-b090-af19124b5040",
   "metadata": {},
   "outputs": [
    {
     "data": {
      "text/plain": [
       "'Porosity'"
      ]
     },
     "execution_count": 25,
     "metadata": {},
     "output_type": "execute_result"
    }
   ],
   "source": [
    "'Porosity'"
   ]
  },
  {
   "cell_type": "code",
   "execution_count": 27,
   "id": "8bfff702-66ff-4618-9ecc-b6d160debd0b",
   "metadata": {},
   "outputs": [
    {
     "data": {
      "text/plain": [
       "str"
      ]
     },
     "execution_count": 27,
     "metadata": {},
     "output_type": "execute_result"
    }
   ],
   "source": [
    "type('porosity')\n"
   ]
  },
  {
   "cell_type": "markdown",
   "id": "050964ea-df72-4b2c-a5d8-040cf523befd",
   "metadata": {},
   "source": [
    "## Booleans"
   ]
  },
  {
   "cell_type": "code",
   "execution_count": 34,
   "id": "2c7ef783-5cc9-46fd-b9ea-3d10a3c4e478",
   "metadata": {},
   "outputs": [
    {
     "data": {
      "text/plain": [
       "False"
      ]
     },
     "execution_count": 34,
     "metadata": {},
     "output_type": "execute_result"
    }
   ],
   "source": [
    "2>2"
   ]
  },
  {
   "cell_type": "code",
   "execution_count": 38,
   "id": "a4dd4c82-f812-4d3c-8f83-3b99afb993bb",
   "metadata": {},
   "outputs": [
    {
     "data": {
      "text/plain": [
       "False"
      ]
     },
     "execution_count": 38,
     "metadata": {},
     "output_type": "execute_result"
    }
   ],
   "source": [
    "2<2"
   ]
  },
  {
   "cell_type": "code",
   "execution_count": 40,
   "id": "1cbea21c-882b-4d0c-8691-b9f80f918163",
   "metadata": {},
   "outputs": [
    {
     "data": {
      "text/plain": [
       "True"
      ]
     },
     "execution_count": 40,
     "metadata": {},
     "output_type": "execute_result"
    }
   ],
   "source": [
    "2==2"
   ]
  },
  {
   "cell_type": "code",
   "execution_count": 42,
   "id": "e0731ec3-e047-4743-a709-51b761dc525b",
   "metadata": {},
   "outputs": [
    {
     "data": {
      "text/plain": [
       "False"
      ]
     },
     "execution_count": 42,
     "metadata": {},
     "output_type": "execute_result"
    }
   ],
   "source": [
    "2==3"
   ]
  },
  {
   "cell_type": "markdown",
   "id": "f3473fe2-74ce-4b85-9f33-965c1bdd1892",
   "metadata": {},
   "source": [
    "## Math Operation"
   ]
  },
  {
   "cell_type": "code",
   "execution_count": 55,
   "id": "b7ab5480-ccb1-4dbc-b913-621a6924b513",
   "metadata": {},
   "outputs": [
    {
     "data": {
      "text/plain": [
       "5.0"
      ]
     },
     "execution_count": 55,
     "metadata": {},
     "output_type": "execute_result"
    }
   ],
   "source": [
    "10/2"
   ]
  },
  {
   "cell_type": "code",
   "execution_count": 57,
   "id": "08fd8ac3-cc31-402f-b037-283a131be7e0",
   "metadata": {},
   "outputs": [
    {
     "data": {
      "text/plain": [
       "1.0"
      ]
     },
     "execution_count": 57,
     "metadata": {},
     "output_type": "execute_result"
    }
   ],
   "source": [
    "10/10"
   ]
  },
  {
   "cell_type": "code",
   "execution_count": 59,
   "id": "9330258a-d9c7-46b3-8fc3-2bab2952faf0",
   "metadata": {},
   "outputs": [
    {
     "data": {
      "text/plain": [
       "9"
      ]
     },
     "execution_count": 59,
     "metadata": {},
     "output_type": "execute_result"
    }
   ],
   "source": [
    "10^3"
   ]
  },
  {
   "cell_type": "code",
   "execution_count": 61,
   "id": "82a8a786-adc1-421e-b5b1-ca4a6ba35faa",
   "metadata": {},
   "outputs": [
    {
     "data": {
      "text/plain": [
       "1000"
      ]
     },
     "execution_count": 61,
     "metadata": {},
     "output_type": "execute_result"
    }
   ],
   "source": [
    "10**3"
   ]
  },
  {
   "cell_type": "code",
   "execution_count": 63,
   "id": "41cf107d-bdc3-497f-bece-c57509bce331",
   "metadata": {},
   "outputs": [
    {
     "data": {
      "text/plain": [
       "8"
      ]
     },
     "execution_count": 63,
     "metadata": {},
     "output_type": "execute_result"
    }
   ],
   "source": [
    "2**3"
   ]
  },
  {
   "cell_type": "code",
   "execution_count": 65,
   "id": "b622a553-e59e-4a4e-99f8-39934fb8aa5f",
   "metadata": {},
   "outputs": [
    {
     "data": {
      "text/plain": [
       "4"
      ]
     },
     "execution_count": 65,
     "metadata": {},
     "output_type": "execute_result"
    }
   ],
   "source": [
    "2*2"
   ]
  },
  {
   "cell_type": "code",
   "execution_count": 67,
   "id": "3c2b77d4-820a-4fc5-9d6b-7ea1238d345b",
   "metadata": {},
   "outputs": [
    {
     "name": "stdout",
     "output_type": "stream",
     "text": [
      "8\n"
     ]
    }
   ],
   "source": [
    "print(2*4)"
   ]
  },
  {
   "cell_type": "code",
   "execution_count": 69,
   "id": "4543e82a-fabc-41ef-b8e6-23526492f9c2",
   "metadata": {},
   "outputs": [
    {
     "name": "stdout",
     "output_type": "stream",
     "text": [
      "3**3\n"
     ]
    }
   ],
   "source": [
    "print(\"3**3\")"
   ]
  },
  {
   "cell_type": "code",
   "execution_count": 71,
   "id": "b73d7c44-16e2-4dda-b613-fec5c84ddd1b",
   "metadata": {},
   "outputs": [
    {
     "name": "stdout",
     "output_type": "stream",
     "text": [
      "4\n"
     ]
    }
   ],
   "source": [
    "print(2**2)"
   ]
  },
  {
   "cell_type": "code",
   "execution_count": 73,
   "id": "e010801f-d5f8-41a8-9d11-a72a8e92c5a8",
   "metadata": {},
   "outputs": [
    {
     "data": {
      "text/plain": [
       "5"
      ]
     },
     "execution_count": 73,
     "metadata": {},
     "output_type": "execute_result"
    }
   ],
   "source": [
    "10//2"
   ]
  },
  {
   "cell_type": "code",
   "execution_count": 75,
   "id": "100ee3ac-1ac0-49ce-9da4-f7eed7ae3a22",
   "metadata": {},
   "outputs": [
    {
     "data": {
      "text/plain": [
       "5.0"
      ]
     },
     "execution_count": 75,
     "metadata": {},
     "output_type": "execute_result"
    }
   ],
   "source": [
    "10/2"
   ]
  },
  {
   "cell_type": "code",
   "execution_count": 77,
   "id": "6c588121-5dbd-4b11-be55-c05278223ebc",
   "metadata": {},
   "outputs": [
    {
     "data": {
      "text/plain": [
       "6.2"
      ]
     },
     "execution_count": 77,
     "metadata": {},
     "output_type": "execute_result"
    }
   ],
   "source": [
    "31/5"
   ]
  },
  {
   "cell_type": "code",
   "execution_count": 79,
   "id": "261cda7b-8c09-472a-9160-cc403507d558",
   "metadata": {},
   "outputs": [
    {
     "data": {
      "text/plain": [
       "6"
      ]
     },
     "execution_count": 79,
     "metadata": {},
     "output_type": "execute_result"
    }
   ],
   "source": [
    "31//5"
   ]
  },
  {
   "cell_type": "code",
   "execution_count": 86,
   "id": "45f7972b-f063-4dab-b122-d45417f1fb75",
   "metadata": {},
   "outputs": [
    {
     "data": {
      "text/plain": [
       "'petroleumpetroleumpetroleumpetroleum'"
      ]
     },
     "execution_count": 86,
     "metadata": {},
     "output_type": "execute_result"
    }
   ],
   "source": [
    "'petroleum'*4"
   ]
  },
  {
   "cell_type": "markdown",
   "id": "e095569f-8944-4d33-987a-3602207c9608",
   "metadata": {},
   "source": [
    "## Variables\n",
    "\n"
   ]
  },
  {
   "cell_type": "code",
   "execution_count": 118,
   "id": "465be85c-2406-4325-b9c5-07b44873390b",
   "metadata": {},
   "outputs": [
    {
     "ename": "NameError",
     "evalue": "name 'porosity' is not defined",
     "output_type": "error",
     "traceback": [
      "\u001b[1;31m---------------------------------------------------------------------------\u001b[0m",
      "\u001b[1;31mNameError\u001b[0m                                 Traceback (most recent call last)",
      "Cell \u001b[1;32mIn[118], line 1\u001b[0m\n\u001b[1;32m----> 1\u001b[0m porosity\u001b[38;5;241m==\u001b[39m\u001b[38;5;241m34\u001b[39m\n",
      "\u001b[1;31mNameError\u001b[0m: name 'porosity' is not defined"
     ]
    }
   ],
   "source": [
    "porosity==34"
   ]
  },
  {
   "cell_type": "code",
   "execution_count": 122,
   "id": "4111041a-398a-4ceb-bc36-ec43f56836c8",
   "metadata": {},
   "outputs": [
    {
     "data": {
      "text/plain": [
       "False"
      ]
     },
     "execution_count": 122,
     "metadata": {},
     "output_type": "execute_result"
    }
   ],
   "source": [
    "\"porosity\"==34\n"
   ]
  },
  {
   "cell_type": "code",
   "execution_count": 124,
   "id": "76f6374b-307c-45b4-9ae5-6850eec58114",
   "metadata": {},
   "outputs": [
    {
     "ename": "NameError",
     "evalue": "name 'porosity' is not defined",
     "output_type": "error",
     "traceback": [
      "\u001b[1;31m---------------------------------------------------------------------------\u001b[0m",
      "\u001b[1;31mNameError\u001b[0m                                 Traceback (most recent call last)",
      "Cell \u001b[1;32mIn[124], line 1\u001b[0m\n\u001b[1;32m----> 1\u001b[0m b\u001b[38;5;241m=\u001b[39mporosity\n\u001b[0;32m      2\u001b[0m b\n",
      "\u001b[1;31mNameError\u001b[0m: name 'porosity' is not defined"
     ]
    }
   ],
   "source": [
    "b=porosity\n",
    "b"
   ]
  },
  {
   "cell_type": "code",
   "execution_count": 126,
   "id": "414617f7-b95a-466b-aedf-28324b0d6069",
   "metadata": {},
   "outputs": [
    {
     "data": {
      "text/plain": [
       "'porosity'"
      ]
     },
     "execution_count": 126,
     "metadata": {},
     "output_type": "execute_result"
    }
   ],
   "source": [
    "b=\"porosity\"\n",
    "b"
   ]
  },
  {
   "cell_type": "code",
   "execution_count": 130,
   "id": "2ef8cc32-784c-4bec-98fe-a702f75cb56a",
   "metadata": {},
   "outputs": [
    {
     "data": {
      "text/plain": [
       "str"
      ]
     },
     "execution_count": 130,
     "metadata": {},
     "output_type": "execute_result"
    }
   ],
   "source": [
    "type(b)"
   ]
  },
  {
   "cell_type": "code",
   "execution_count": 133,
   "id": "bf834680-dcb6-4696-8ba2-43be379dc431",
   "metadata": {},
   "outputs": [
    {
     "data": {
      "text/plain": [
       "'porosity'"
      ]
     },
     "execution_count": 133,
     "metadata": {},
     "output_type": "execute_result"
    }
   ],
   "source": [
    "b"
   ]
  },
  {
   "cell_type": "code",
   "execution_count": 135,
   "id": "95cf423a-dad3-4c81-a1a3-4fe1db7ad11a",
   "metadata": {},
   "outputs": [
    {
     "ename": "SyntaxError",
     "evalue": "invalid decimal literal (1925862542.py, line 1)",
     "output_type": "error",
     "traceback": [
      "\u001b[1;36m  Cell \u001b[1;32mIn[135], line 1\u001b[1;36m\u001b[0m\n\u001b[1;33m    1a=12\u001b[0m\n\u001b[1;37m    ^\u001b[0m\n\u001b[1;31mSyntaxError\u001b[0m\u001b[1;31m:\u001b[0m invalid decimal literal\n"
     ]
    }
   ],
   "source": [
    "1a=12"
   ]
  },
  {
   "cell_type": "code",
   "execution_count": 142,
   "id": "22b078a6-42cb-4594-bc1f-48dd293770d5",
   "metadata": {},
   "outputs": [],
   "source": [
    "a1=10"
   ]
  },
  {
   "cell_type": "code",
   "execution_count": 144,
   "id": "63e0e4cf-b615-4909-b86b-4b1bd7b33cb9",
   "metadata": {},
   "outputs": [
    {
     "data": {
      "text/plain": [
       "10"
      ]
     },
     "execution_count": 144,
     "metadata": {},
     "output_type": "execute_result"
    }
   ],
   "source": [
    "a1"
   ]
  },
  {
   "cell_type": "code",
   "execution_count": 146,
   "id": "18f9b572-2cf0-48f0-b208-64c994b3e8c6",
   "metadata": {},
   "outputs": [],
   "source": [
    "a,b = \"helloe\",3"
   ]
  },
  {
   "cell_type": "code",
   "execution_count": 148,
   "id": "55a5175b-c143-4474-acdc-03c75d17b48e",
   "metadata": {},
   "outputs": [
    {
     "data": {
      "text/plain": [
       "'helloe'"
      ]
     },
     "execution_count": 148,
     "metadata": {},
     "output_type": "execute_result"
    }
   ],
   "source": [
    "a"
   ]
  },
  {
   "cell_type": "code",
   "execution_count": 150,
   "id": "bddc5e4d-59b5-4441-92e1-ec27db11099a",
   "metadata": {},
   "outputs": [
    {
     "data": {
      "text/plain": [
       "3"
      ]
     },
     "execution_count": 150,
     "metadata": {},
     "output_type": "execute_result"
    }
   ],
   "source": [
    "b"
   ]
  },
  {
   "cell_type": "markdown",
   "id": "282b9a71-6e34-4145-9bec-7453953d13e4",
   "metadata": {},
   "source": [
    "## Input\n",
    "\n",
    "- it takes input from usr\n",
    "- output as string"
   ]
  },
  {
   "cell_type": "code",
   "execution_count": 153,
   "id": "af96bb94-5c23-44a5-bc5b-5505da604647",
   "metadata": {},
   "outputs": [
    {
     "name": "stdin",
     "output_type": "stream",
     "text": [
      " hhhhh\n"
     ]
    },
    {
     "data": {
      "text/plain": [
       "'hhhhh'"
      ]
     },
     "execution_count": 153,
     "metadata": {},
     "output_type": "execute_result"
    }
   ],
   "source": [
    "input()"
   ]
  },
  {
   "cell_type": "code",
   "execution_count": 155,
   "id": "1308c34c-b723-477b-9a44-d32dcda42d7e",
   "metadata": {},
   "outputs": [
    {
     "name": "stdin",
     "output_type": "stream",
     "text": [
      " salam\n"
     ]
    },
    {
     "data": {
      "text/plain": [
       "'salam'"
      ]
     },
     "execution_count": 155,
     "metadata": {},
     "output_type": "execute_result"
    }
   ],
   "source": [
    "input()"
   ]
  },
  {
   "cell_type": "code",
   "execution_count": 157,
   "id": "921c6ab7-bc26-4f6d-862c-e69461d62c77",
   "metadata": {},
   "outputs": [
    {
     "name": "stdin",
     "output_type": "stream",
     "text": [
      " 34\n"
     ]
    }
   ],
   "source": [
    "perm = input()"
   ]
  },
  {
   "cell_type": "code",
   "execution_count": 159,
   "id": "3cf07a0e-0943-4c82-8a9e-c613383eee29",
   "metadata": {},
   "outputs": [
    {
     "data": {
      "text/plain": [
       "'34'"
      ]
     },
     "execution_count": 159,
     "metadata": {},
     "output_type": "execute_result"
    }
   ],
   "source": [
    "perm"
   ]
  },
  {
   "cell_type": "code",
   "execution_count": 162,
   "id": "1fa16e9e-d938-426e-96b8-a8dd3c4ea7f8",
   "metadata": {},
   "outputs": [
    {
     "name": "stdin",
     "output_type": "stream",
     "text": [
      "Add your statment here:  23\n"
     ]
    }
   ],
   "source": [
    "perm = input(\"Add your statment here: \")"
   ]
  },
  {
   "cell_type": "code",
   "execution_count": 164,
   "id": "bad780c9-1706-45cf-8538-9420fc9ca3bb",
   "metadata": {},
   "outputs": [
    {
     "data": {
      "text/plain": [
       "'23'"
      ]
     },
     "execution_count": 164,
     "metadata": {},
     "output_type": "execute_result"
    }
   ],
   "source": [
    "perm"
   ]
  },
  {
   "cell_type": "code",
   "execution_count": 166,
   "id": "ec254aa3-a98a-48d9-a9b8-d51b14c7a597",
   "metadata": {},
   "outputs": [
    {
     "ename": "TypeError",
     "evalue": "unsupported operand type(s) for /: 'str' and 'int'",
     "output_type": "error",
     "traceback": [
      "\u001b[1;31m---------------------------------------------------------------------------\u001b[0m",
      "\u001b[1;31mTypeError\u001b[0m                                 Traceback (most recent call last)",
      "Cell \u001b[1;32mIn[166], line 1\u001b[0m\n\u001b[1;32m----> 1\u001b[0m perm\u001b[38;5;241m/\u001b[39m\u001b[38;5;241m3\u001b[39m\n",
      "\u001b[1;31mTypeError\u001b[0m: unsupported operand type(s) for /: 'str' and 'int'"
     ]
    }
   ],
   "source": [
    "perm/3"
   ]
  },
  {
   "cell_type": "code",
   "execution_count": 168,
   "id": "0f529145-cdc8-497e-8311-7b8a0cf5843e",
   "metadata": {},
   "outputs": [],
   "source": [
    "### the output is a string and cann't be divided or used.. it should be converted into integer"
   ]
  },
  {
   "cell_type": "markdown",
   "id": "2e594583-0764-4e47-9be0-a8a8630b8689",
   "metadata": {},
   "source": [
    "## Type Conversion\n"
   ]
  },
  {
   "cell_type": "code",
   "execution_count": 170,
   "id": "47e269c0-3b4b-4f08-b1fc-d8317530ed9c",
   "metadata": {},
   "outputs": [
    {
     "data": {
      "text/plain": [
       "str"
      ]
     },
     "execution_count": 170,
     "metadata": {},
     "output_type": "execute_result"
    }
   ],
   "source": [
    "type(perm)"
   ]
  },
  {
   "cell_type": "code",
   "execution_count": 172,
   "id": "f6b18648-e4f5-4352-a2c2-45e8f96434d1",
   "metadata": {},
   "outputs": [
    {
     "data": {
      "text/plain": [
       "'23'"
      ]
     },
     "execution_count": 172,
     "metadata": {},
     "output_type": "execute_result"
    }
   ],
   "source": [
    "perm"
   ]
  },
  {
   "cell_type": "code",
   "execution_count": 174,
   "id": "ed787d0f-2b74-45bd-9544-378a5cc5a174",
   "metadata": {},
   "outputs": [],
   "source": [
    "perm = float (perm)"
   ]
  },
  {
   "cell_type": "code",
   "execution_count": 176,
   "id": "faf4ac8a-def6-492d-abfb-3e1073eb579e",
   "metadata": {},
   "outputs": [
    {
     "data": {
      "text/plain": [
       "23.0"
      ]
     },
     "execution_count": 176,
     "metadata": {},
     "output_type": "execute_result"
    }
   ],
   "source": [
    "perm"
   ]
  },
  {
   "cell_type": "code",
   "execution_count": 178,
   "id": "f6e912ca-3275-439d-ae05-a0829ade3856",
   "metadata": {},
   "outputs": [
    {
     "data": {
      "text/plain": [
       "float"
      ]
     },
     "execution_count": 178,
     "metadata": {},
     "output_type": "execute_result"
    }
   ],
   "source": [
    "type(perm)"
   ]
  },
  {
   "cell_type": "code",
   "execution_count": 180,
   "id": "4fe71518-c46c-433d-bf08-6fc0183e2c97",
   "metadata": {},
   "outputs": [
    {
     "name": "stdin",
     "output_type": "stream",
     "text": [
      "Add your statment here:  45\n"
     ]
    }
   ],
   "source": [
    "perm = float(input(\"Add your statment here: \"))"
   ]
  },
  {
   "cell_type": "code",
   "execution_count": 182,
   "id": "4aea5d79-989d-44ca-bd56-92a55674478d",
   "metadata": {},
   "outputs": [
    {
     "data": {
      "text/plain": [
       "45.0"
      ]
     },
     "execution_count": 182,
     "metadata": {},
     "output_type": "execute_result"
    }
   ],
   "source": [
    "perm"
   ]
  },
  {
   "cell_type": "code",
   "execution_count": 184,
   "id": "e18768bb-c13d-4273-9394-cb2d4a199df6",
   "metadata": {},
   "outputs": [
    {
     "data": {
      "text/plain": [
       "float"
      ]
     },
     "execution_count": 184,
     "metadata": {},
     "output_type": "execute_result"
    }
   ],
   "source": [
    "type(perm)"
   ]
  },
  {
   "cell_type": "code",
   "execution_count": 186,
   "id": "5121769d-37f7-41cf-9b1f-d15543565efe",
   "metadata": {},
   "outputs": [
    {
     "name": "stdin",
     "output_type": "stream",
     "text": [
      "Enter Your Formation Permeability 23\n"
     ]
    }
   ],
   "source": [
    "permeability = input(\"Enter Your Formation Permeability\")"
   ]
  },
  {
   "cell_type": "code",
   "execution_count": 188,
   "id": "03dc4a8a-a9b8-4f05-b542-ea1989a16e31",
   "metadata": {},
   "outputs": [
    {
     "name": "stdin",
     "output_type": "stream",
     "text": [
      "Enter Your Formation Permeability\n",
      " 23\n"
     ]
    }
   ],
   "source": [
    "permeability = input(\"Enter Your Formation Permeability\\n\")"
   ]
  },
  {
   "cell_type": "code",
   "execution_count": 190,
   "id": "31e15467-3ee0-4d50-bcae-72ed031b41fc",
   "metadata": {},
   "outputs": [
    {
     "name": "stdin",
     "output_type": "stream",
     "text": [
      "Enter Your Formation Permeability 23\n"
     ]
    }
   ],
   "source": [
    "permeability = float(input(\"Enter Your Formation Permeability\"))"
   ]
  },
  {
   "cell_type": "code",
   "execution_count": 192,
   "id": "7474795f-ea37-4a80-9657-5446ded1cd8d",
   "metadata": {},
   "outputs": [
    {
     "data": {
      "text/plain": [
       "23.0"
      ]
     },
     "execution_count": 192,
     "metadata": {},
     "output_type": "execute_result"
    }
   ],
   "source": [
    "permeability"
   ]
  },
  {
   "cell_type": "markdown",
   "id": "d5dec2d0-6a64-4c24-adbb-b3331f08449c",
   "metadata": {},
   "source": [
    "## String Formatting\n",
    "\n",
    "f string formats\n",
    "\n"
   ]
  },
  {
   "cell_type": "code",
   "execution_count": 205,
   "id": "9f6be34c-e17c-45d3-bca4-16cf1f980749",
   "metadata": {},
   "outputs": [
    {
     "name": "stdin",
     "output_type": "stream",
     "text": [
      "Enter Your Formation Permeability 33\n",
      "Enter Your Formation porosity 0.15\n"
     ]
    },
    {
     "name": "stdout",
     "output_type": "stream",
     "text": [
      "Formation porosity is 0.15 frac., and permeability is 33.0 mD\n"
     ]
    }
   ],
   "source": [
    "# using f\n",
    "permeability = float(input(\"Enter Your Formation Permeability\"))\n",
    "porosity = float(input(\"Enter Your Formation porosity\"))\n",
    "print(f\"Formation porosity is {porosity} frac., and permeability is {permeability} mD\")"
   ]
  },
  {
   "cell_type": "code",
   "execution_count": null,
   "id": "9f1cd52b-1545-43b0-b56f-52aaea9c9fec",
   "metadata": {},
   "outputs": [],
   "source": []
  },
  {
   "cell_type": "code",
   "execution_count": 237,
   "id": "43ce0682-ec85-418b-91bf-a6de763b12e7",
   "metadata": {},
   "outputs": [
    {
     "name": "stdout",
     "output_type": "stream",
     "text": [
      "Formation porosity is 15.0 , and permeability is 33.0 mD\n"
     ]
    }
   ],
   "source": [
    "print(f\"Formation porosity is {porosity*100} , and permeability is {permeability} mD\")"
   ]
  },
  {
   "cell_type": "code",
   "execution_count": 213,
   "id": "f4ca5fbe-eed1-44f1-b470-ef58473b23c8",
   "metadata": {},
   "outputs": [
    {
     "name": "stdout",
     "output_type": "stream",
     "text": [
      "Formation porosity is 0.15, and permeability is 33.0 mD\n"
     ]
    }
   ],
   "source": [
    "# using .format(xxx,xxxx)\n",
    "print(\"Formation porosity is {}, and permeability is {} mD\".format(porosity,permeability))"
   ]
  },
  {
   "cell_type": "code",
   "execution_count": 241,
   "id": "e50636be-6690-4492-9965-a0c382e29e0a",
   "metadata": {},
   "outputs": [
    {
     "name": "stdout",
     "output_type": "stream",
     "text": [
      "Formation porosity is 0.15 and permeability is 33.0\n"
     ]
    }
   ],
   "source": [
    "print(\"Formation porosity is\" ,porosity, \"and permeability is\", permeability)"
   ]
  },
  {
   "cell_type": "code",
   "execution_count": 235,
   "id": "5793ade5-f88d-46ec-8e99-568eed931bf9",
   "metadata": {},
   "outputs": [
    {
     "name": "stdout",
     "output_type": "stream",
     "text": [
      "Formation porosity is 0.15 and permeability is 33\n"
     ]
    }
   ],
   "source": [
    "print(\"Formation porosity is\" ,(porosity), \"and permeability is\", int(permeability))"
   ]
  },
  {
   "cell_type": "code",
   "execution_count": null,
   "id": "51c9ef7f-e496-45f2-8a95-321828aba3bc",
   "metadata": {},
   "outputs": [],
   "source": []
  },
  {
   "cell_type": "code",
   "execution_count": null,
   "id": "1b0af27e-d2f4-4f2e-bfaf-672a9dd2341a",
   "metadata": {},
   "outputs": [],
   "source": []
  },
  {
   "cell_type": "code",
   "execution_count": null,
   "id": "d4b3b5d4-dc80-4816-b852-6ef270e8f975",
   "metadata": {},
   "outputs": [],
   "source": []
  },
  {
   "cell_type": "code",
   "execution_count": null,
   "id": "87cd7049-d326-4233-aad1-7ac4787f5b91",
   "metadata": {},
   "outputs": [],
   "source": []
  }
 ],
 "metadata": {
  "kernelspec": {
   "display_name": "Python 3 (ipykernel)",
   "language": "python",
   "name": "python3"
  },
  "language_info": {
   "codemirror_mode": {
    "name": "ipython",
    "version": 3
   },
   "file_extension": ".py",
   "mimetype": "text/x-python",
   "name": "python",
   "nbconvert_exporter": "python",
   "pygments_lexer": "ipython3",
   "version": "3.11.7"
  }
 },
 "nbformat": 4,
 "nbformat_minor": 5
}
