{
 "cells": [
  {
   "cell_type": "code",
   "execution_count": 1,
   "id": "4fcb82d7-c6ef-451e-901f-1dae79409fdf",
   "metadata": {},
   "outputs": [
    {
     "data": {
      "text/plain": [
       "-1"
      ]
     },
     "execution_count": 1,
     "metadata": {},
     "output_type": "execute_result"
    }
   ],
   "source": [
    "16-17"
   ]
  },
  {
   "cell_type": "code",
   "execution_count": 5,
   "id": "9262e879-7129-41da-a479-4de0c7c48379",
   "metadata": {},
   "outputs": [
    {
     "data": {
      "text/plain": [
       "20.666666666666668"
      ]
     },
     "execution_count": 5,
     "metadata": {},
     "output_type": "execute_result"
    }
   ],
   "source": [
    "1*6/3+  56/3"
   ]
  },
  {
   "cell_type": "code",
   "execution_count": 14,
   "id": "77dc63fe-252f-4a98-afcd-cbc12c5acb4d",
   "metadata": {},
   "outputs": [
    {
     "data": {
      "text/plain": [
       "[22,\n",
       " 14,\n",
       " 21,\n",
       " 55,\n",
       " [9, 2.5, [10, 12, 'porosity', ['Ghery'], 44, 90], 11, 52],\n",
       " 99,\n",
       " 16,\n",
       " 101,\n",
       " 202]"
      ]
     },
     "execution_count": 14,
     "metadata": {},
     "output_type": "execute_result"
    }
   ],
   "source": [
    "new=[22, 14, 21, 55, [9, 2.5, [10,12,'porosity', ['Ghery'], 44,90,],11, 52], 99, 16, 101, 202]\n",
    "new"
   ]
  },
  {
   "cell_type": "code",
   "execution_count": 18,
   "id": "e99733b9-2af5-45c9-83e0-168ab87be76e",
   "metadata": {},
   "outputs": [],
   "source": [
    "new.insert(2, 'Red')"
   ]
  },
  {
   "cell_type": "code",
   "execution_count": 20,
   "id": "95d6f4b8-fdd8-4d12-b01b-2f491c34dfc6",
   "metadata": {},
   "outputs": [
    {
     "data": {
      "text/plain": [
       "[22,\n",
       " 14,\n",
       " 'Red',\n",
       " 21,\n",
       " 55,\n",
       " [9, 2.5, [10, 12, 'porosity', ['Ghery'], 44, 90], 11, 52],\n",
       " 99,\n",
       " 16,\n",
       " 101,\n",
       " 202]"
      ]
     },
     "execution_count": 20,
     "metadata": {},
     "output_type": "execute_result"
    }
   ],
   "source": [
    "new"
   ]
  },
  {
   "cell_type": "markdown",
   "id": "e90dde54-3370-4a50-927c-fd678c96ccaf",
   "metadata": {},
   "source": [
    "# list operations\n",
    "-insert: you need first to spacify an index of where to add the new element\n",
    "\n",
    "- extend: to add elements directly \n",
    "\n",
    "-append: it add elements as a list to the end of an existing list\n",
    "\n",
    "-pop: to drop or delete an element from a list"
   ]
  },
  {
   "cell_type": "code",
   "execution_count": 22,
   "id": "9a197e17-ba27-4393-a69c-3a05847e56d5",
   "metadata": {},
   "outputs": [],
   "source": [
    "a = [3,2,4,5]\n",
    "b=[5,8,11,10]"
   ]
  },
  {
   "cell_type": "code",
   "execution_count": 24,
   "id": "1f5474a8-ebe6-491c-a32e-a54346fa20a4",
   "metadata": {},
   "outputs": [
    {
     "data": {
      "text/plain": [
       "[3, 2, 4, 5, 3, 2, 4, 5, 3, 2, 4, 5]"
      ]
     },
     "execution_count": 24,
     "metadata": {},
     "output_type": "execute_result"
    }
   ],
   "source": [
    "3*a"
   ]
  },
  {
   "cell_type": "code",
   "execution_count": 28,
   "id": "005ecf90-2f8e-481e-8613-d9cba2a6bc63",
   "metadata": {},
   "outputs": [
    {
     "data": {
      "text/plain": [
       "4"
      ]
     },
     "execution_count": 28,
     "metadata": {},
     "output_type": "execute_result"
    }
   ],
   "source": [
    "a.pop(2)"
   ]
  },
  {
   "cell_type": "code",
   "execution_count": 30,
   "id": "a349c7a4-5d13-4f5d-a365-b8b723c67c5b",
   "metadata": {},
   "outputs": [
    {
     "data": {
      "text/plain": [
       "[3, 2, 5]"
      ]
     },
     "execution_count": 30,
     "metadata": {},
     "output_type": "execute_result"
    }
   ],
   "source": [
    "a\n"
   ]
  },
  {
   "cell_type": "code",
   "execution_count": null,
   "id": "cbe05899-0eaa-4d43-9875-6df5a1c5e32a",
   "metadata": {},
   "outputs": [],
   "source": [
    "# to multiply a list with a number, we first convert it into array"
   ]
  },
  {
   "cell_type": "code",
   "execution_count": 32,
   "id": "6bf335eb-f647-4247-8c83-1ba0d6c6c1a6",
   "metadata": {},
   "outputs": [
    {
     "data": {
      "text/plain": [
       "[3, 2, 5]"
      ]
     },
     "execution_count": 32,
     "metadata": {},
     "output_type": "execute_result"
    }
   ],
   "source": [
    "a"
   ]
  },
  {
   "cell_type": "code",
   "execution_count": 34,
   "id": "b0fd2e65-c8c1-4c92-b506-569b807da907",
   "metadata": {},
   "outputs": [],
   "source": [
    "import numpy as np"
   ]
  },
  {
   "cell_type": "code",
   "execution_count": 36,
   "id": "6de1103b-556c-41fa-ac73-f8c8cfe0e9b2",
   "metadata": {},
   "outputs": [
    {
     "data": {
      "text/plain": [
       "[3, 2, 5]"
      ]
     },
     "execution_count": 36,
     "metadata": {},
     "output_type": "execute_result"
    }
   ],
   "source": [
    "a"
   ]
  },
  {
   "cell_type": "code",
   "execution_count": 38,
   "id": "2eb14c90-408d-4cba-a0cf-3c65baec67d8",
   "metadata": {},
   "outputs": [
    {
     "data": {
      "text/plain": [
       "array([ 9,  6, 15])"
      ]
     },
     "execution_count": 38,
     "metadata": {},
     "output_type": "execute_result"
    }
   ],
   "source": [
    "np.array(a)*3"
   ]
  },
  {
   "cell_type": "code",
   "execution_count": 42,
   "id": "37bfd46b-451c-4a21-84b8-fb88efb3ce91",
   "metadata": {},
   "outputs": [],
   "source": [
    "a.extend([3])"
   ]
  },
  {
   "cell_type": "code",
   "execution_count": 44,
   "id": "c4f7b67e-99ec-4bfb-9b43-591332725577",
   "metadata": {},
   "outputs": [
    {
     "data": {
      "text/plain": [
       "[3, 2, 5, 3]"
      ]
     },
     "execution_count": 44,
     "metadata": {},
     "output_type": "execute_result"
    }
   ],
   "source": [
    "a"
   ]
  },
  {
   "cell_type": "code",
   "execution_count": 53,
   "id": "7b892888-adf7-4331-bcee-409647e6711d",
   "metadata": {},
   "outputs": [],
   "source": [
    "a.append([22])"
   ]
  },
  {
   "cell_type": "code",
   "execution_count": 55,
   "id": "d097f175-5fb9-4dab-99e7-eae4de4133ac",
   "metadata": {},
   "outputs": [
    {
     "data": {
      "text/plain": [
       "[3, 2, 5, 3, [22]]"
      ]
     },
     "execution_count": 55,
     "metadata": {},
     "output_type": "execute_result"
    }
   ],
   "source": [
    "a"
   ]
  },
  {
   "cell_type": "code",
   "execution_count": 71,
   "id": "88941558-5d2c-4902-8042-d55bb85bd9b4",
   "metadata": {},
   "outputs": [
    {
     "data": {
      "text/plain": [
       "3"
      ]
     },
     "execution_count": 71,
     "metadata": {},
     "output_type": "execute_result"
    }
   ],
   "source": [
    "a.pop(3)"
   ]
  },
  {
   "cell_type": "code",
   "execution_count": 74,
   "id": "90063964-09d7-4fbc-a68c-80abdda97e0f",
   "metadata": {},
   "outputs": [
    {
     "data": {
      "text/plain": [
       "[3, 2, 5, [22]]"
      ]
     },
     "execution_count": 74,
     "metadata": {},
     "output_type": "execute_result"
    }
   ],
   "source": [
    "a"
   ]
  },
  {
   "cell_type": "markdown",
   "id": "0d0ea9c6-b33c-4bc2-ab27-e75f72b0cba1",
   "metadata": {},
   "source": [
    "## Range"
   ]
  },
  {
   "cell_type": "code",
   "execution_count": 80,
   "id": "e6f8d17b-e44a-4754-ae58-b883bb48e27a",
   "metadata": {},
   "outputs": [
    {
     "data": {
      "text/plain": [
       "range(0, 10)"
      ]
     },
     "execution_count": 80,
     "metadata": {},
     "output_type": "execute_result"
    }
   ],
   "source": [
    "range(10)"
   ]
  },
  {
   "cell_type": "code",
   "execution_count": 84,
   "id": "e6d89ef1-2c11-4770-8ac5-811386b69fdc",
   "metadata": {},
   "outputs": [
    {
     "data": {
      "text/plain": [
       "[0, 1, 2, 3, 4, 5, 6, 7, 8, 9]"
      ]
     },
     "execution_count": 84,
     "metadata": {},
     "output_type": "execute_result"
    }
   ],
   "source": [
    "list(range(10))"
   ]
  },
  {
   "cell_type": "code",
   "execution_count": 86,
   "id": "4c0718ea-173c-4bef-b046-ea217948540b",
   "metadata": {},
   "outputs": [
    {
     "data": {
      "text/plain": [
       "[3, 5, 7, 9]"
      ]
     },
     "execution_count": 86,
     "metadata": {},
     "output_type": "execute_result"
    }
   ],
   "source": [
    "list(range(3,10,2))"
   ]
  },
  {
   "cell_type": "code",
   "execution_count": 88,
   "id": "cc675828-4d12-4c13-b5e9-b8200ab6854b",
   "metadata": {},
   "outputs": [
    {
     "data": {
      "text/plain": [
       "[2,\n",
       " 4,\n",
       " 6,\n",
       " 8,\n",
       " 10,\n",
       " 12,\n",
       " 14,\n",
       " 16,\n",
       " 18,\n",
       " 20,\n",
       " 22,\n",
       " 24,\n",
       " 26,\n",
       " 28,\n",
       " 30,\n",
       " 32,\n",
       " 34,\n",
       " 36,\n",
       " 38,\n",
       " 40,\n",
       " 42,\n",
       " 44,\n",
       " 46,\n",
       " 48,\n",
       " 50,\n",
       " 52,\n",
       " 54,\n",
       " 56,\n",
       " 58,\n",
       " 60,\n",
       " 62,\n",
       " 64,\n",
       " 66,\n",
       " 68,\n",
       " 70,\n",
       " 72,\n",
       " 74,\n",
       " 76,\n",
       " 78,\n",
       " 80,\n",
       " 82,\n",
       " 84,\n",
       " 86,\n",
       " 88,\n",
       " 90,\n",
       " 92,\n",
       " 94,\n",
       " 96,\n",
       " 98,\n",
       " 100,\n",
       " 102,\n",
       " 104,\n",
       " 106,\n",
       " 108,\n",
       " 110,\n",
       " 112,\n",
       " 114,\n",
       " 116,\n",
       " 118,\n",
       " 120,\n",
       " 122,\n",
       " 124,\n",
       " 126,\n",
       " 128,\n",
       " 130,\n",
       " 132,\n",
       " 134,\n",
       " 136,\n",
       " 138,\n",
       " 140,\n",
       " 142,\n",
       " 144,\n",
       " 146,\n",
       " 148,\n",
       " 150,\n",
       " 152,\n",
       " 154,\n",
       " 156,\n",
       " 158,\n",
       " 160,\n",
       " 162,\n",
       " 164,\n",
       " 166,\n",
       " 168,\n",
       " 170,\n",
       " 172,\n",
       " 174,\n",
       " 176,\n",
       " 178,\n",
       " 180,\n",
       " 182,\n",
       " 184,\n",
       " 186,\n",
       " 188,\n",
       " 190,\n",
       " 192,\n",
       " 194,\n",
       " 196,\n",
       " 198,\n",
       " 200]"
      ]
     },
     "execution_count": 88,
     "metadata": {},
     "output_type": "execute_result"
    }
   ],
   "source": [
    "list(range(2,202,2))"
   ]
  },
  {
   "cell_type": "code",
   "execution_count": null,
   "id": "ebe6906b-0dc5-4f49-b702-e0ec397b31a2",
   "metadata": {},
   "outputs": [],
   "source": [
    "# take inputs from user: start, stop, step"
   ]
  },
  {
   "cell_type": "code",
   "execution_count": 102,
   "id": "5ca67036-cde4-42fc-abfe-af5c2460ef08",
   "metadata": {},
   "outputs": [
    {
     "name": "stdin",
     "output_type": "stream",
     "text": [
      "Enter starting point:  0\n",
      "Enter stopping point:  2000\n",
      "Enter step size:  5\n"
     ]
    },
    {
     "data": {
      "text/plain": [
       "[0,\n",
       " 5,\n",
       " 10,\n",
       " 15,\n",
       " 20,\n",
       " 25,\n",
       " 30,\n",
       " 35,\n",
       " 40,\n",
       " 45,\n",
       " 50,\n",
       " 55,\n",
       " 60,\n",
       " 65,\n",
       " 70,\n",
       " 75,\n",
       " 80,\n",
       " 85,\n",
       " 90,\n",
       " 95,\n",
       " 100,\n",
       " 105,\n",
       " 110,\n",
       " 115,\n",
       " 120,\n",
       " 125,\n",
       " 130,\n",
       " 135,\n",
       " 140,\n",
       " 145,\n",
       " 150,\n",
       " 155,\n",
       " 160,\n",
       " 165,\n",
       " 170,\n",
       " 175,\n",
       " 180,\n",
       " 185,\n",
       " 190,\n",
       " 195,\n",
       " 200,\n",
       " 205,\n",
       " 210,\n",
       " 215,\n",
       " 220,\n",
       " 225,\n",
       " 230,\n",
       " 235,\n",
       " 240,\n",
       " 245,\n",
       " 250,\n",
       " 255,\n",
       " 260,\n",
       " 265,\n",
       " 270,\n",
       " 275,\n",
       " 280,\n",
       " 285,\n",
       " 290,\n",
       " 295,\n",
       " 300,\n",
       " 305,\n",
       " 310,\n",
       " 315,\n",
       " 320,\n",
       " 325,\n",
       " 330,\n",
       " 335,\n",
       " 340,\n",
       " 345,\n",
       " 350,\n",
       " 355,\n",
       " 360,\n",
       " 365,\n",
       " 370,\n",
       " 375,\n",
       " 380,\n",
       " 385,\n",
       " 390,\n",
       " 395,\n",
       " 400,\n",
       " 405,\n",
       " 410,\n",
       " 415,\n",
       " 420,\n",
       " 425,\n",
       " 430,\n",
       " 435,\n",
       " 440,\n",
       " 445,\n",
       " 450,\n",
       " 455,\n",
       " 460,\n",
       " 465,\n",
       " 470,\n",
       " 475,\n",
       " 480,\n",
       " 485,\n",
       " 490,\n",
       " 495,\n",
       " 500,\n",
       " 505,\n",
       " 510,\n",
       " 515,\n",
       " 520,\n",
       " 525,\n",
       " 530,\n",
       " 535,\n",
       " 540,\n",
       " 545,\n",
       " 550,\n",
       " 555,\n",
       " 560,\n",
       " 565,\n",
       " 570,\n",
       " 575,\n",
       " 580,\n",
       " 585,\n",
       " 590,\n",
       " 595,\n",
       " 600,\n",
       " 605,\n",
       " 610,\n",
       " 615,\n",
       " 620,\n",
       " 625,\n",
       " 630,\n",
       " 635,\n",
       " 640,\n",
       " 645,\n",
       " 650,\n",
       " 655,\n",
       " 660,\n",
       " 665,\n",
       " 670,\n",
       " 675,\n",
       " 680,\n",
       " 685,\n",
       " 690,\n",
       " 695,\n",
       " 700,\n",
       " 705,\n",
       " 710,\n",
       " 715,\n",
       " 720,\n",
       " 725,\n",
       " 730,\n",
       " 735,\n",
       " 740,\n",
       " 745,\n",
       " 750,\n",
       " 755,\n",
       " 760,\n",
       " 765,\n",
       " 770,\n",
       " 775,\n",
       " 780,\n",
       " 785,\n",
       " 790,\n",
       " 795,\n",
       " 800,\n",
       " 805,\n",
       " 810,\n",
       " 815,\n",
       " 820,\n",
       " 825,\n",
       " 830,\n",
       " 835,\n",
       " 840,\n",
       " 845,\n",
       " 850,\n",
       " 855,\n",
       " 860,\n",
       " 865,\n",
       " 870,\n",
       " 875,\n",
       " 880,\n",
       " 885,\n",
       " 890,\n",
       " 895,\n",
       " 900,\n",
       " 905,\n",
       " 910,\n",
       " 915,\n",
       " 920,\n",
       " 925,\n",
       " 930,\n",
       " 935,\n",
       " 940,\n",
       " 945,\n",
       " 950,\n",
       " 955,\n",
       " 960,\n",
       " 965,\n",
       " 970,\n",
       " 975,\n",
       " 980,\n",
       " 985,\n",
       " 990,\n",
       " 995,\n",
       " 1000,\n",
       " 1005,\n",
       " 1010,\n",
       " 1015,\n",
       " 1020,\n",
       " 1025,\n",
       " 1030,\n",
       " 1035,\n",
       " 1040,\n",
       " 1045,\n",
       " 1050,\n",
       " 1055,\n",
       " 1060,\n",
       " 1065,\n",
       " 1070,\n",
       " 1075,\n",
       " 1080,\n",
       " 1085,\n",
       " 1090,\n",
       " 1095,\n",
       " 1100,\n",
       " 1105,\n",
       " 1110,\n",
       " 1115,\n",
       " 1120,\n",
       " 1125,\n",
       " 1130,\n",
       " 1135,\n",
       " 1140,\n",
       " 1145,\n",
       " 1150,\n",
       " 1155,\n",
       " 1160,\n",
       " 1165,\n",
       " 1170,\n",
       " 1175,\n",
       " 1180,\n",
       " 1185,\n",
       " 1190,\n",
       " 1195,\n",
       " 1200,\n",
       " 1205,\n",
       " 1210,\n",
       " 1215,\n",
       " 1220,\n",
       " 1225,\n",
       " 1230,\n",
       " 1235,\n",
       " 1240,\n",
       " 1245,\n",
       " 1250,\n",
       " 1255,\n",
       " 1260,\n",
       " 1265,\n",
       " 1270,\n",
       " 1275,\n",
       " 1280,\n",
       " 1285,\n",
       " 1290,\n",
       " 1295,\n",
       " 1300,\n",
       " 1305,\n",
       " 1310,\n",
       " 1315,\n",
       " 1320,\n",
       " 1325,\n",
       " 1330,\n",
       " 1335,\n",
       " 1340,\n",
       " 1345,\n",
       " 1350,\n",
       " 1355,\n",
       " 1360,\n",
       " 1365,\n",
       " 1370,\n",
       " 1375,\n",
       " 1380,\n",
       " 1385,\n",
       " 1390,\n",
       " 1395,\n",
       " 1400,\n",
       " 1405,\n",
       " 1410,\n",
       " 1415,\n",
       " 1420,\n",
       " 1425,\n",
       " 1430,\n",
       " 1435,\n",
       " 1440,\n",
       " 1445,\n",
       " 1450,\n",
       " 1455,\n",
       " 1460,\n",
       " 1465,\n",
       " 1470,\n",
       " 1475,\n",
       " 1480,\n",
       " 1485,\n",
       " 1490,\n",
       " 1495,\n",
       " 1500,\n",
       " 1505,\n",
       " 1510,\n",
       " 1515,\n",
       " 1520,\n",
       " 1525,\n",
       " 1530,\n",
       " 1535,\n",
       " 1540,\n",
       " 1545,\n",
       " 1550,\n",
       " 1555,\n",
       " 1560,\n",
       " 1565,\n",
       " 1570,\n",
       " 1575,\n",
       " 1580,\n",
       " 1585,\n",
       " 1590,\n",
       " 1595,\n",
       " 1600,\n",
       " 1605,\n",
       " 1610,\n",
       " 1615,\n",
       " 1620,\n",
       " 1625,\n",
       " 1630,\n",
       " 1635,\n",
       " 1640,\n",
       " 1645,\n",
       " 1650,\n",
       " 1655,\n",
       " 1660,\n",
       " 1665,\n",
       " 1670,\n",
       " 1675,\n",
       " 1680,\n",
       " 1685,\n",
       " 1690,\n",
       " 1695,\n",
       " 1700,\n",
       " 1705,\n",
       " 1710,\n",
       " 1715,\n",
       " 1720,\n",
       " 1725,\n",
       " 1730,\n",
       " 1735,\n",
       " 1740,\n",
       " 1745,\n",
       " 1750,\n",
       " 1755,\n",
       " 1760,\n",
       " 1765,\n",
       " 1770,\n",
       " 1775,\n",
       " 1780,\n",
       " 1785,\n",
       " 1790,\n",
       " 1795,\n",
       " 1800,\n",
       " 1805,\n",
       " 1810,\n",
       " 1815,\n",
       " 1820,\n",
       " 1825,\n",
       " 1830,\n",
       " 1835,\n",
       " 1840,\n",
       " 1845,\n",
       " 1850,\n",
       " 1855,\n",
       " 1860,\n",
       " 1865,\n",
       " 1870,\n",
       " 1875,\n",
       " 1880,\n",
       " 1885,\n",
       " 1890,\n",
       " 1895,\n",
       " 1900,\n",
       " 1905,\n",
       " 1910,\n",
       " 1915,\n",
       " 1920,\n",
       " 1925,\n",
       " 1930,\n",
       " 1935,\n",
       " 1940,\n",
       " 1945,\n",
       " 1950,\n",
       " 1955,\n",
       " 1960,\n",
       " 1965,\n",
       " 1970,\n",
       " 1975,\n",
       " 1980,\n",
       " 1985,\n",
       " 1990,\n",
       " 1995]"
      ]
     },
     "execution_count": 102,
     "metadata": {},
     "output_type": "execute_result"
    }
   ],
   "source": [
    "start = int(input('Enter starting point: '))\n",
    "stop = int(input('Enter stopping point: '))\n",
    "step = int(input ('Enter step size: '))\n",
    "\n",
    "list(range(start,stop, step))"
   ]
  },
  {
   "cell_type": "code",
   "execution_count": 104,
   "id": "507508aa-a0d7-453e-92a0-21cfbe455c17",
   "metadata": {},
   "outputs": [
    {
     "data": {
      "text/plain": [
       "5"
      ]
     },
     "execution_count": 104,
     "metadata": {},
     "output_type": "execute_result"
    }
   ],
   "source": [
    "2+3"
   ]
  },
  {
   "cell_type": "code",
   "execution_count": 106,
   "id": "5b6528e8-33f5-41e3-944a-88e7cd8d305e",
   "metadata": {},
   "outputs": [
    {
     "data": {
      "text/plain": [
       "25"
      ]
     },
     "execution_count": 106,
     "metadata": {},
     "output_type": "execute_result"
    }
   ],
   "source": [
    "5*5"
   ]
  },
  {
   "cell_type": "code",
   "execution_count": 108,
   "id": "8ee3dfa9-bba6-433f-a668-edde1303aeb8",
   "metadata": {},
   "outputs": [
    {
     "data": {
      "text/plain": [
       "10000"
      ]
     },
     "execution_count": 108,
     "metadata": {},
     "output_type": "execute_result"
    }
   ],
   "source": [
    "100*100"
   ]
  },
  {
   "cell_type": "code",
   "execution_count": 110,
   "id": "b0f3a9af-6a4a-4e01-8e95-59ea8629df05",
   "metadata": {},
   "outputs": [
    {
     "data": {
      "text/plain": [
       "1142.857142857143"
      ]
     },
     "execution_count": 110,
     "metadata": {},
     "output_type": "execute_result"
    }
   ],
   "source": [
    "8000/7"
   ]
  },
  {
   "cell_type": "code",
   "execution_count": 112,
   "id": "62526d62-a0e0-4134-87e2-992774b4320d",
   "metadata": {},
   "outputs": [
    {
     "data": {
      "text/plain": [
       "4.0"
      ]
     },
     "execution_count": 112,
     "metadata": {},
     "output_type": "execute_result"
    }
   ],
   "source": [
    "12/3"
   ]
  },
  {
   "cell_type": "code",
   "execution_count": 114,
   "id": "2658ae19-e3e4-497e-9a19-40bbf584dc82",
   "metadata": {},
   "outputs": [
    {
     "name": "stdin",
     "output_type": "stream",
     "text": [
      "Enter Number1:  3\n",
      "Enter Number2:  9\n",
      "Enter step size:  2\n"
     ]
    }
   ],
   "source": [
    "Number1 = int(input('Enter Number1: '))\n",
    "Number2 = int(input('Enter Number2: '))\n",
    "step = int(input ('Enter step size: '))"
   ]
  },
  {
   "cell_type": "markdown",
   "id": "7835ea3e-4179-49c9-9e1b-5a3e83a1e266",
   "metadata": {},
   "source": [
    "## Tuples\n",
    "-()\n",
    "- ordered\n",
    "- immutable..can't be changed"
   ]
  },
  {
   "cell_type": "code",
   "execution_count": 117,
   "id": "76d5260b-74da-43d0-b1a9-1af5b8c4eb87",
   "metadata": {},
   "outputs": [],
   "source": [
    "oil_prd = (223,456,893,232)"
   ]
  },
  {
   "cell_type": "code",
   "execution_count": 119,
   "id": "2669fc74-6668-4a65-9fb0-7011eceee804",
   "metadata": {},
   "outputs": [
    {
     "data": {
      "text/plain": [
       "(223, 456, 893, 232)"
      ]
     },
     "execution_count": 119,
     "metadata": {},
     "output_type": "execute_result"
    }
   ],
   "source": [
    "oil_prd"
   ]
  },
  {
   "cell_type": "code",
   "execution_count": null,
   "id": "105e0fca-892a-44c5-9f12-cf3d96d25228",
   "metadata": {},
   "outputs": [],
   "source": [
    "# Index"
   ]
  },
  {
   "cell_type": "code",
   "execution_count": 121,
   "id": "54fa4fe5-1b17-4765-9943-7ae290b2c9ee",
   "metadata": {},
   "outputs": [
    {
     "data": {
      "text/plain": [
       "232"
      ]
     },
     "execution_count": 121,
     "metadata": {},
     "output_type": "execute_result"
    }
   ],
   "source": [
    "oil_prd[3]"
   ]
  },
  {
   "cell_type": "code",
   "execution_count": null,
   "id": "4c7a808f-5db5-4517-affe-e9ede2f97170",
   "metadata": {},
   "outputs": [],
   "source": [
    "# Tuple to list"
   ]
  },
  {
   "cell_type": "code",
   "execution_count": 123,
   "id": "fa5c93d8-6d91-4aeb-9e89-cda27b982620",
   "metadata": {},
   "outputs": [
    {
     "data": {
      "text/plain": [
       "(223, 456, 893, 232)"
      ]
     },
     "execution_count": 123,
     "metadata": {},
     "output_type": "execute_result"
    }
   ],
   "source": [
    "oil_prd"
   ]
  },
  {
   "cell_type": "code",
   "execution_count": 127,
   "id": "c7663a1f-d256-4eec-908f-c6df99fe4b20",
   "metadata": {},
   "outputs": [],
   "source": [
    "oilprd_list=[oil_prd]"
   ]
  },
  {
   "cell_type": "code",
   "execution_count": 129,
   "id": "7a9de782-0ac7-4dfa-b3da-5c280dde98af",
   "metadata": {},
   "outputs": [
    {
     "data": {
      "text/plain": [
       "[(223, 456, 893, 232)]"
      ]
     },
     "execution_count": 129,
     "metadata": {},
     "output_type": "execute_result"
    }
   ],
   "source": [
    "oilprd_list"
   ]
  },
  {
   "cell_type": "code",
   "execution_count": 131,
   "id": "a80aa53c-9d00-49a6-bcd1-6f702da49f17",
   "metadata": {},
   "outputs": [],
   "source": [
    "oilprd_list=list(oil_prd)"
   ]
  },
  {
   "cell_type": "code",
   "execution_count": 133,
   "id": "7f5509e3-dd7d-4aa4-94ce-1c53ae72dd6d",
   "metadata": {},
   "outputs": [
    {
     "data": {
      "text/plain": [
       "[223, 456, 893, 232]"
      ]
     },
     "execution_count": 133,
     "metadata": {},
     "output_type": "execute_result"
    }
   ],
   "source": [
    "oilprd_list"
   ]
  },
  {
   "cell_type": "code",
   "execution_count": null,
   "id": "0c6f0268-456e-4b66-9bf0-5f1eca1a17d9",
   "metadata": {},
   "outputs": [],
   "source": [
    "# you can't assign item to tuple"
   ]
  },
  {
   "cell_type": "code",
   "execution_count": 135,
   "id": "7e16620b-f115-480b-8e8d-0418f9852920",
   "metadata": {},
   "outputs": [
    {
     "ename": "TypeError",
     "evalue": "'tuple' object does not support item assignment",
     "output_type": "error",
     "traceback": [
      "\u001b[1;31m---------------------------------------------------------------------------\u001b[0m",
      "\u001b[1;31mTypeError\u001b[0m                                 Traceback (most recent call last)",
      "Cell \u001b[1;32mIn[135], line 1\u001b[0m\n\u001b[1;32m----> 1\u001b[0m oil_prd[\u001b[38;5;241m2\u001b[39m]\u001b[38;5;241m=\u001b[39m\u001b[38;5;241m45\u001b[39m\n",
      "\u001b[1;31mTypeError\u001b[0m: 'tuple' object does not support item assignment"
     ]
    }
   ],
   "source": [
    "oil_prd[2]=45"
   ]
  },
  {
   "cell_type": "code",
   "execution_count": 137,
   "id": "2e8c884c-cbae-4521-a196-b3c181ad40d9",
   "metadata": {},
   "outputs": [],
   "source": [
    "oilprd_list[2]=45  ## can be done for the list "
   ]
  },
  {
   "cell_type": "code",
   "execution_count": 139,
   "id": "96002b55-7ff3-4dd8-8565-0c041d9e008e",
   "metadata": {},
   "outputs": [
    {
     "data": {
      "text/plain": [
       "[223, 456, 45, 232]"
      ]
     },
     "execution_count": 139,
     "metadata": {},
     "output_type": "execute_result"
    }
   ],
   "source": [
    "oilprd_list"
   ]
  },
  {
   "cell_type": "code",
   "execution_count": 141,
   "id": "40dee370-d0d3-46ce-9897-1294e858dbaa",
   "metadata": {},
   "outputs": [
    {
     "data": {
      "text/plain": [
       "(232, 893, 456, 223)"
      ]
     },
     "execution_count": 141,
     "metadata": {},
     "output_type": "execute_result"
    }
   ],
   "source": [
    "oil_prd[::-1]"
   ]
  },
  {
   "cell_type": "markdown",
   "id": "748721c2-73f4-4347-837c-d6839ec6115a",
   "metadata": {},
   "source": [
    "## Sets\n",
    "\n",
    "- unordered data structure (means no indexing like List and Tuple...no order of elements to call in Sets)\n",
    "- {}\n",
    "- Unique data\n",
    "- no duplication of data\n",
    "- faster than list\n",
    "- unique lements, sets\n",
    "- "
   ]
  },
  {
   "cell_type": "code",
   "execution_count": 144,
   "id": "5cb67473-e6ac-4776-8eaf-786fe927320f",
   "metadata": {},
   "outputs": [],
   "source": [
    "perm = {2,2,2,2,2,4,4,4,4,3,3,3,3,3,5,78,99,23,23,11,12,13}"
   ]
  },
  {
   "cell_type": "code",
   "execution_count": 146,
   "id": "638e67b9-0de0-425d-8def-fd3458c9d41e",
   "metadata": {},
   "outputs": [
    {
     "data": {
      "text/plain": [
       "{2, 3, 4, 5, 11, 12, 13, 23, 78, 99}"
      ]
     },
     "execution_count": 146,
     "metadata": {},
     "output_type": "execute_result"
    }
   ],
   "source": [
    "perm"
   ]
  },
  {
   "cell_type": "code",
   "execution_count": null,
   "id": "eed494b5-27ff-4b56-9c6d-286815a94a53",
   "metadata": {},
   "outputs": [],
   "source": []
  },
  {
   "cell_type": "code",
   "execution_count": null,
   "id": "b586d6b7-730f-4439-8e87-5042b226d6c1",
   "metadata": {},
   "outputs": [],
   "source": []
  },
  {
   "cell_type": "code",
   "execution_count": null,
   "id": "f34c817d-5e95-404d-a417-00643174babc",
   "metadata": {},
   "outputs": [],
   "source": []
  },
  {
   "cell_type": "code",
   "execution_count": null,
   "id": "433022b4-78b2-4e9a-b8c6-cdad7279392b",
   "metadata": {},
   "outputs": [],
   "source": []
  },
  {
   "cell_type": "code",
   "execution_count": null,
   "id": "254d0661-1d1e-4ff3-bce7-a7a192187b52",
   "metadata": {},
   "outputs": [],
   "source": []
  },
  {
   "cell_type": "code",
   "execution_count": null,
   "id": "5686e171-b376-4ee1-a7f3-0c9af87b680a",
   "metadata": {},
   "outputs": [],
   "source": []
  },
  {
   "cell_type": "code",
   "execution_count": null,
   "id": "0ce26c96-408e-479c-bdc2-a88527eeab7a",
   "metadata": {},
   "outputs": [],
   "source": []
  }
 ],
 "metadata": {
  "kernelspec": {
   "display_name": "Python 3 (ipykernel)",
   "language": "python",
   "name": "python3"
  },
  "language_info": {
   "codemirror_mode": {
    "name": "ipython",
    "version": 3
   },
   "file_extension": ".py",
   "mimetype": "text/x-python",
   "name": "python",
   "nbconvert_exporter": "python",
   "pygments_lexer": "ipython3",
   "version": "3.11.7"
  }
 },
 "nbformat": 4,
 "nbformat_minor": 5
}
