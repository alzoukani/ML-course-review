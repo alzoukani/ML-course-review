{
 "cells": [
  {
   "cell_type": "markdown",
   "id": "f8100b0a-4d07-4cb9-8f7f-b8f12d072f49",
   "metadata": {},
   "source": [
    "## Dictionary\n",
    "\n",
    "1. keys: values\n",
    "2. {} => key: value paris\n",
    "3. can store dict., lists, tuples, str, int, floats in values\n",
    "4. Helps in storing data with labels\n",
    "5. special characters are not allowed such as_, #%< etc.."
   ]
  },
  {
   "cell_type": "code",
   "execution_count": 3,
   "id": "877b74ba-277f-41db-bf71-cdc928b12bf6",
   "metadata": {},
   "outputs": [
    {
     "data": {
      "text/plain": [
       "dict"
      ]
     },
     "execution_count": 3,
     "metadata": {},
     "output_type": "execute_result"
    }
   ],
   "source": [
    "d={}\n",
    "type(d)"
   ]
  },
  {
   "cell_type": "code",
   "execution_count": 5,
   "id": "b14152a9-c5cb-49b8-9af8-455b28596134",
   "metadata": {},
   "outputs": [],
   "source": [
    "s ={3}"
   ]
  },
  {
   "cell_type": "code",
   "execution_count": 7,
   "id": "64ba9fce-d1fb-4706-8a4d-bd64ba9299b0",
   "metadata": {},
   "outputs": [
    {
     "data": {
      "text/plain": [
       "set"
      ]
     },
     "execution_count": 7,
     "metadata": {},
     "output_type": "execute_result"
    }
   ],
   "source": [
    "type(s)"
   ]
  },
  {
   "cell_type": "code",
   "execution_count": 9,
   "id": "ccb4d892-fe3a-46ee-9298-ec04dd22ea51",
   "metadata": {},
   "outputs": [],
   "source": [
    "d = {\"name\":\"Ahmad\", \"number\":\"059771333\", \"mail\":\"geology4syr@gmail.com\"}"
   ]
  },
  {
   "cell_type": "code",
   "execution_count": 11,
   "id": "f5102680-0623-4397-b2eb-9df4ad64cc43",
   "metadata": {},
   "outputs": [
    {
     "data": {
      "text/plain": [
       "{'name': 'Ahmad', 'number': '059771333', 'mail': 'geology4syr@gmail.com'}"
      ]
     },
     "execution_count": 11,
     "metadata": {},
     "output_type": "execute_result"
    }
   ],
   "source": [
    "d"
   ]
  },
  {
   "cell_type": "code",
   "execution_count": 13,
   "id": "2c622a21-23c6-40ee-84be-bbe2e6c5c9ca",
   "metadata": {},
   "outputs": [
    {
     "data": {
      "text/plain": [
       "dict"
      ]
     },
     "execution_count": 13,
     "metadata": {},
     "output_type": "execute_result"
    }
   ],
   "source": [
    "type(d)"
   ]
  },
  {
   "cell_type": "code",
   "execution_count": 30,
   "id": "11c4562d-1c4b-465f-b0ae-ae103db22818",
   "metadata": {},
   "outputs": [],
   "source": [
    "rock_properties = {\"porosity\":0.3, \"permeability\":33, \"Lithology\":\"Limestone\"}"
   ]
  },
  {
   "cell_type": "code",
   "execution_count": 32,
   "id": "16b12bce-aeae-4469-a678-e3ca53fbe873",
   "metadata": {},
   "outputs": [
    {
     "data": {
      "text/plain": [
       "{'porosity': 0.3, 'permeability': 33, 'Lithology': 'Limestone'}"
      ]
     },
     "execution_count": 32,
     "metadata": {},
     "output_type": "execute_result"
    }
   ],
   "source": [
    "rock_properties "
   ]
  },
  {
   "cell_type": "markdown",
   "id": "81794905-640a-4d38-afd6-51e62a721cb5",
   "metadata": {},
   "source": [
    "# Keys must be unique\n",
    "* if keys are duplicated, the value will be updated to the latest data"
   ]
  },
  {
   "cell_type": "code",
   "execution_count": 37,
   "id": "0b116b79-e6fe-43fb-a774-9a4a87e52785",
   "metadata": {},
   "outputs": [],
   "source": [
    "poro={\"tight\":12, \"medium\":13, \"tight\":15}"
   ]
  },
  {
   "cell_type": "code",
   "execution_count": 39,
   "id": "7faacf7f-83a8-4ac0-b523-2ae2fe3e9d72",
   "metadata": {},
   "outputs": [
    {
     "data": {
      "text/plain": [
       "{'tight': 15, 'medium': 13}"
      ]
     },
     "execution_count": 39,
     "metadata": {},
     "output_type": "execute_result"
    }
   ],
   "source": [
    "poro"
   ]
  },
  {
   "cell_type": "code",
   "execution_count": 42,
   "id": "8525981f-6dd5-4be3-9909-d3ef9895a57c",
   "metadata": {},
   "outputs": [
    {
     "name": "stdout",
     "output_type": "stream",
     "text": [
      "[1, 2, 3, 'GFG', 2.3, {'Ahmad': 42}]\n"
     ]
    }
   ],
   "source": [
    "List = [1, 2, 3, \"GFG\", 2.3,{\"Ahmad\":42}]\n",
    "print(List)"
   ]
  },
  {
   "cell_type": "markdown",
   "id": "2f410277-1c47-4047-98fb-616791ffc9e0",
   "metadata": {},
   "source": [
    "# Accessing data from a dict"
   ]
  },
  {
   "cell_type": "code",
   "execution_count": 49,
   "id": "6bcfd6f4-952f-46d1-a0f5-eadb782c69a6",
   "metadata": {},
   "outputs": [],
   "source": [
    "a = [67, 34,534,'porosity',85]"
   ]
  },
  {
   "cell_type": "code",
   "execution_count": 51,
   "id": "9405e03d-31cd-4bd8-a03c-2654fe4bb7eb",
   "metadata": {},
   "outputs": [
    {
     "data": {
      "text/plain": [
       "'porosity'"
      ]
     },
     "execution_count": 51,
     "metadata": {},
     "output_type": "execute_result"
    }
   ],
   "source": [
    "a[3]"
   ]
  },
  {
   "cell_type": "code",
   "execution_count": 63,
   "id": "b205a32e-37b2-434e-8134-70089e91d56c",
   "metadata": {},
   "outputs": [],
   "source": [
    "rock_properties = {\"porosity\":0.3, \"permeability\":33, \"Lithology\":\"Limestone\", 'color':['red','green','yellow']}"
   ]
  },
  {
   "cell_type": "code",
   "execution_count": 65,
   "id": "cbddd5eb-2c52-4ae1-ad86-aace4af1be44",
   "metadata": {},
   "outputs": [
    {
     "data": {
      "text/plain": [
       "'Limestone'"
      ]
     },
     "execution_count": 65,
     "metadata": {},
     "output_type": "execute_result"
    }
   ],
   "source": [
    "rock_properties['Lithology']"
   ]
  },
  {
   "cell_type": "code",
   "execution_count": 67,
   "id": "2bf51b24-e1b4-4ec2-a298-f498b324ed2e",
   "metadata": {},
   "outputs": [
    {
     "data": {
      "text/plain": [
       "'Limestone'"
      ]
     },
     "execution_count": 67,
     "metadata": {},
     "output_type": "execute_result"
    }
   ],
   "source": [
    "rock_properties.get('Lithology')"
   ]
  },
  {
   "cell_type": "code",
   "execution_count": 69,
   "id": "20522ab5-ab5e-40cc-a75e-f18fbc3e8f55",
   "metadata": {},
   "outputs": [
    {
     "ename": "KeyError",
     "evalue": "1",
     "output_type": "error",
     "traceback": [
      "\u001b[1;31m---------------------------------------------------------------------------\u001b[0m",
      "\u001b[1;31mKeyError\u001b[0m                                  Traceback (most recent call last)",
      "Cell \u001b[1;32mIn[69], line 1\u001b[0m\n\u001b[1;32m----> 1\u001b[0m rock_properties[\u001b[38;5;241m1\u001b[39m]\n",
      "\u001b[1;31mKeyError\u001b[0m: 1"
     ]
    }
   ],
   "source": [
    "rock_properties[1]"
   ]
  },
  {
   "cell_type": "raw",
   "id": "c2b52b2a-30b7-4e5d-9c9f-113b6066581b",
   "metadata": {},
   "source": [
    "rock_pro"
   ]
  },
  {
   "cell_type": "code",
   "execution_count": 71,
   "id": "832c32d7-74f7-4428-8301-6f7a081825fd",
   "metadata": {},
   "outputs": [
    {
     "data": {
      "text/plain": [
       "{'porosity': 0.3,\n",
       " 'permeability': 33,\n",
       " 'Lithology': 'Limestone',\n",
       " 'color': ['red', 'green', 'yellow']}"
      ]
     },
     "execution_count": 71,
     "metadata": {},
     "output_type": "execute_result"
    }
   ],
   "source": [
    "rock_properties"
   ]
  },
  {
   "cell_type": "code",
   "execution_count": 73,
   "id": "d9fecd5a-fe83-4b97-88d4-dcd5c7358fb6",
   "metadata": {},
   "outputs": [
    {
     "data": {
      "text/plain": [
       "dict"
      ]
     },
     "execution_count": 73,
     "metadata": {},
     "output_type": "execute_result"
    }
   ],
   "source": [
    "type(rock_properties)"
   ]
  },
  {
   "cell_type": "code",
   "execution_count": 75,
   "id": "ee923992-e269-4c36-bd3e-abc2689d5d11",
   "metadata": {},
   "outputs": [
    {
     "data": {
      "text/plain": [
       "['red', 'green', 'yellow']"
      ]
     },
     "execution_count": 75,
     "metadata": {},
     "output_type": "execute_result"
    }
   ],
   "source": [
    "rock_properties['color']"
   ]
  },
  {
   "cell_type": "code",
   "execution_count": 83,
   "id": "15bf6419-d6e5-40b0-bef0-ba491b2d146d",
   "metadata": {},
   "outputs": [
    {
     "data": {
      "text/plain": [
       "'green'"
      ]
     },
     "execution_count": 83,
     "metadata": {},
     "output_type": "execute_result"
    }
   ],
   "source": [
    "rock_properties['color'][1]"
   ]
  },
  {
   "cell_type": "code",
   "execution_count": 87,
   "id": "398e0566-10a4-4dd6-a9be-0757d1b3db26",
   "metadata": {},
   "outputs": [],
   "source": [
    "rock_pro = {'rock a': {'porosity':0.3, 'perm':45, 'lithology':'Sandsonte'},\n",
    "            'rock b': {'porosity':0.56, 'perm':67, 'lithology':'Limestone'}, \n",
    "            'rock c': {'porosity':0.34, 'perm':54, 'lithology':'Sandstone'},\n",
    "            'rock d': {'porosity':0.78, 'perm':76, 'lithology':'Shale'}}"
   ]
  },
  {
   "cell_type": "code",
   "execution_count": 89,
   "id": "fe6d8057-c3c6-475c-b255-3b916d183566",
   "metadata": {},
   "outputs": [
    {
     "data": {
      "text/plain": [
       "{'rock a': {'porosity': 0.3, 'perm': 45, 'lithology': 'Sandsonte'},\n",
       " 'rock b': {'porosity': 0.56, 'perm': 67, 'lithology': 'Limestone'},\n",
       " 'rock c': {'porosity': 0.34, 'perm': 54, 'lithology': 'Sandstone'},\n",
       " 'rock d': {'porosity': 0.78, 'perm': 76, 'lithology': 'Shale'}}"
      ]
     },
     "execution_count": 89,
     "metadata": {},
     "output_type": "execute_result"
    }
   ],
   "source": [
    "rock_pro"
   ]
  },
  {
   "cell_type": "code",
   "execution_count": 91,
   "id": "9b524cd4-bdc0-4dd5-b891-8cfec2cfb256",
   "metadata": {},
   "outputs": [
    {
     "data": {
      "text/plain": [
       "{'porosity': 0.56, 'perm': 67, 'lithology': 'Limestone'}"
      ]
     },
     "execution_count": 91,
     "metadata": {},
     "output_type": "execute_result"
    }
   ],
   "source": [
    "rock_pro['rock b']"
   ]
  },
  {
   "cell_type": "code",
   "execution_count": 95,
   "id": "dd6a91a7-6045-4382-963a-7c7e2382f3e0",
   "metadata": {},
   "outputs": [
    {
     "data": {
      "text/plain": [
       "'Limestone'"
      ]
     },
     "execution_count": 95,
     "metadata": {},
     "output_type": "execute_result"
    }
   ],
   "source": [
    "rock_pro['rock b']['lithology']"
   ]
  },
  {
   "cell_type": "code",
   "execution_count": 97,
   "id": "7b856118-4d66-4b33-8095-5532e0975aab",
   "metadata": {},
   "outputs": [
    {
     "data": {
      "text/plain": [
       "76"
      ]
     },
     "execution_count": 97,
     "metadata": {},
     "output_type": "execute_result"
    }
   ],
   "source": [
    "rock_pro['rock d']['perm']"
   ]
  },
  {
   "cell_type": "markdown",
   "id": "2ff6219c-98ae-487d-a852-0e56346c6f59",
   "metadata": {},
   "source": [
    "# Tuples are allowed as a key, but sets, lists, and dict and are not allowed as key"
   ]
  },
  {
   "cell_type": "markdown",
   "id": "7f7e79a5-2ca1-4f57-9911-fa261894c4cf",
   "metadata": {},
   "source": [
    "# Dict are mutable in nature"
   ]
  },
  {
   "cell_type": "code",
   "execution_count": 101,
   "id": "9ea26229-bcd5-4d5c-9a46-358a1a2dc97f",
   "metadata": {},
   "outputs": [
    {
     "data": {
      "text/plain": [
       "{'porosity': 0.3,\n",
       " 'permeability': 33,\n",
       " 'Lithology': 'Limestone',\n",
       " 'color': ['red', 'green', 'yellow']}"
      ]
     },
     "execution_count": 101,
     "metadata": {},
     "output_type": "execute_result"
    }
   ],
   "source": [
    "rock_properties"
   ]
  },
  {
   "cell_type": "code",
   "execution_count": 103,
   "id": "d29417d4-4eaa-4920-b958-73c8c4835a5f",
   "metadata": {},
   "outputs": [],
   "source": [
    "rock_properties['Lithology']='Dolostone'"
   ]
  },
  {
   "cell_type": "code",
   "execution_count": 105,
   "id": "16b5df2c-9daa-4938-93ea-54a9c3755168",
   "metadata": {},
   "outputs": [
    {
     "data": {
      "text/plain": [
       "{'porosity': 0.3,\n",
       " 'permeability': 33,\n",
       " 'Lithology': 'Dolostone',\n",
       " 'color': ['red', 'green', 'yellow']}"
      ]
     },
     "execution_count": 105,
     "metadata": {},
     "output_type": "execute_result"
    }
   ],
   "source": [
    "rock_properties"
   ]
  },
  {
   "cell_type": "markdown",
   "id": "10e60b5b-cd9c-4c9d-841a-b466766f37cc",
   "metadata": {},
   "source": [
    "# Adding a new key:value"
   ]
  },
  {
   "cell_type": "code",
   "execution_count": 114,
   "id": "2b102144-a89c-4a1b-a1e0-0c8ed08bd712",
   "metadata": {},
   "outputs": [
    {
     "data": {
      "text/plain": [
       "{'porosity': 0.3,\n",
       " 'permeability': 33,\n",
       " 'Lithology': 'Dolostone',\n",
       " 'color': ['red', 'green', 'yellow']}"
      ]
     },
     "execution_count": 114,
     "metadata": {},
     "output_type": "execute_result"
    }
   ],
   "source": [
    "rock_properties"
   ]
  },
  {
   "cell_type": "code",
   "execution_count": 116,
   "id": "76f19c3c-a1ed-4472-b03a-24987476b2a8",
   "metadata": {},
   "outputs": [],
   "source": [
    "rock_properties['permeability']=40"
   ]
  },
  {
   "cell_type": "code",
   "execution_count": 118,
   "id": "4938fb59-511f-4b80-beb1-f95a5339be33",
   "metadata": {},
   "outputs": [
    {
     "data": {
      "text/plain": [
       "{'porosity': 0.3,\n",
       " 'permeability': 40,\n",
       " 'Lithology': 'Dolostone',\n",
       " 'color': ['red', 'green', 'yellow']}"
      ]
     },
     "execution_count": 118,
     "metadata": {},
     "output_type": "execute_result"
    }
   ],
   "source": [
    "rock_properties"
   ]
  },
  {
   "cell_type": "code",
   "execution_count": 120,
   "id": "de9d465c-0636-4502-84c8-f5e25fbda108",
   "metadata": {},
   "outputs": [
    {
     "data": {
      "text/plain": [
       "['red', 'green', 'yellow']"
      ]
     },
     "execution_count": 120,
     "metadata": {},
     "output_type": "execute_result"
    }
   ],
   "source": [
    "rock_properties.pop('color')"
   ]
  },
  {
   "cell_type": "code",
   "execution_count": 122,
   "id": "b8b07d7b-d267-4b66-afd2-355160a305ac",
   "metadata": {},
   "outputs": [
    {
     "data": {
      "text/plain": [
       "{'porosity': 0.3, 'permeability': 40, 'Lithology': 'Dolostone'}"
      ]
     },
     "execution_count": 122,
     "metadata": {},
     "output_type": "execute_result"
    }
   ],
   "source": [
    "rock_properties"
   ]
  },
  {
   "cell_type": "markdown",
   "id": "c2669f05-20f9-420e-ad6b-884a001a52f9",
   "metadata": {},
   "source": [
    "# for Loops\n",
    "\n",
    "* tool to utilize power of Pc (iterations)\n",
    "* to perform repetition of a command n number of times\n",
    "* iterations are always performed on iterables (ordered-collections: list, tuple, dict, string, numpy arry, df)"
   ]
  },
  {
   "cell_type": "code",
   "execution_count": 130,
   "id": "40504058-0baa-4144-9f3a-f33f189ac73d",
   "metadata": {},
   "outputs": [],
   "source": [
    "poro = (0.2, .3, .4, .4, .56, .43, .65, .34)"
   ]
  },
  {
   "cell_type": "code",
   "execution_count": 132,
   "id": "b82c531d-9c77-44f7-853a-2a9511545214",
   "metadata": {},
   "outputs": [
    {
     "data": {
      "text/plain": [
       "(0.2, 0.3, 0.4, 0.4, 0.56, 0.43, 0.65, 0.34)"
      ]
     },
     "execution_count": 132,
     "metadata": {},
     "output_type": "execute_result"
    }
   ],
   "source": [
    "poro"
   ]
  },
  {
   "cell_type": "code",
   "execution_count": 134,
   "id": "09c16570-1868-4bbc-b142-ace1610a278c",
   "metadata": {},
   "outputs": [
    {
     "name": "stdout",
     "output_type": "stream",
     "text": [
      "0.2\n",
      "0.3\n",
      "0.4\n"
     ]
    }
   ],
   "source": [
    "print(poro[0])\n",
    "print(poro[1])\n",
    "print(poro[2])"
   ]
  },
  {
   "cell_type": "code",
   "execution_count": 136,
   "id": "24f95172-72be-422a-842c-46c3435a38a4",
   "metadata": {},
   "outputs": [
    {
     "name": "stdout",
     "output_type": "stream",
     "text": [
      "0.2\n",
      "0.3\n",
      "0.4\n",
      "0.4\n",
      "0.56\n",
      "0.43\n",
      "0.65\n",
      "0.34\n"
     ]
    }
   ],
   "source": [
    "for i in poro:\n",
    "    print (i)"
   ]
  },
  {
   "cell_type": "code",
   "execution_count": 138,
   "id": "98c5c9b2-dcbc-497e-a014-6a76051ecf1b",
   "metadata": {},
   "outputs": [
    {
     "name": "stdout",
     "output_type": "stream",
     "text": [
      "The value of i is 0.2\n",
      "0.2\n",
      "End of for loop for i = 0.2\n",
      "++++++++++++\n",
      "The value of i is 0.3\n",
      "0.3\n",
      "End of for loop for i = 0.3\n",
      "++++++++++++\n",
      "The value of i is 0.4\n",
      "0.4\n",
      "End of for loop for i = 0.4\n",
      "++++++++++++\n",
      "The value of i is 0.4\n",
      "0.4\n",
      "End of for loop for i = 0.4\n",
      "++++++++++++\n",
      "The value of i is 0.56\n",
      "0.56\n",
      "End of for loop for i = 0.56\n",
      "++++++++++++\n",
      "The value of i is 0.43\n",
      "0.43\n",
      "End of for loop for i = 0.43\n",
      "++++++++++++\n",
      "The value of i is 0.65\n",
      "0.65\n",
      "End of for loop for i = 0.65\n",
      "++++++++++++\n",
      "The value of i is 0.34\n",
      "0.34\n",
      "End of for loop for i = 0.34\n",
      "++++++++++++\n",
      "Outside of for loop\n"
     ]
    }
   ],
   "source": [
    "poro = (0.2, .3, .4, .4, .56, .43, .65, .34)\n",
    "for i in poro:\n",
    "    print(f\"The value of i is {i}\")\n",
    "    print (i)\n",
    "    print(f\"End of for loop for i = {i}\")\n",
    "    print(\"++++++++++++\")\n",
    "print (\"Outside of for loop\")"
   ]
  },
  {
   "cell_type": "markdown",
   "id": "2a07b4bb-f510-4ce5-ac1d-84f2b4d9e99b",
   "metadata": {},
   "source": [
    "# API = 141.5/SG-131.5"
   ]
  },
  {
   "cell_type": "code",
   "execution_count": 142,
   "id": "c35ba0eb-e5a7-4ef5-9869-e9cca7461c8b",
   "metadata": {},
   "outputs": [],
   "source": [
    "specific_gravity = [0.2,0.3,0.4,0.87,0.9,1, 0.2]"
   ]
  },
  {
   "cell_type": "code",
   "execution_count": 149,
   "id": "1077a4ea-952b-4720-8fb9-e60084dbfc52",
   "metadata": {},
   "outputs": [
    {
     "name": "stdout",
     "output_type": "stream",
     "text": [
      "For Specific Gravity 0.2\n",
      "API is 576.0\n",
      "=========\n",
      "For Specific Gravity 0.3\n",
      "API is 340.1666666666667\n",
      "=========\n",
      "For Specific Gravity 0.4\n",
      "API is 222.25\n",
      "=========\n",
      "For Specific Gravity 0.87\n",
      "API is 31.143678160919535\n",
      "=========\n",
      "For Specific Gravity 0.9\n",
      "API is 25.72222222222223\n",
      "=========\n",
      "For Specific Gravity 1\n",
      "API is 10.0\n",
      "=========\n",
      "For Specific Gravity 0.2\n",
      "API is 576.0\n",
      "=========\n",
      "End of API calculations\n"
     ]
    }
   ],
   "source": [
    "specific_gravity = [0.2,0.3,0.4,0.87,0.9,1, 0.2]\n",
    "for i in specific_gravity:\n",
    "    print(f\"For Specific Gravity {i}\")\n",
    "    API = 141.5/i-131.5\n",
    "    print(f\"API is {API}\")\n",
    "    print(\"=========\")\n",
    "print (f\"End of API calculations\")"
   ]
  },
  {
   "cell_type": "markdown",
   "id": "b15f0778-3a60-401a-acd1-a31ca0d65549",
   "metadata": {},
   "source": [
    "# you can store the outpots in the above example in an empty list []"
   ]
  },
  {
   "cell_type": "code",
   "execution_count": 162,
   "id": "9320840f-925f-4f62-93d8-8893eec9951d",
   "metadata": {},
   "outputs": [
    {
     "name": "stdout",
     "output_type": "stream",
     "text": [
      "For Specific Gravity 0.2\n",
      "API is 576.0\n",
      "=========\n",
      "For Specific Gravity 0.3\n",
      "API is 340.1666666666667\n",
      "=========\n",
      "For Specific Gravity 0.4\n",
      "API is 222.25\n",
      "=========\n",
      "For Specific Gravity 0.87\n",
      "API is 31.143678160919535\n",
      "=========\n",
      "For Specific Gravity 0.9\n",
      "API is 25.72222222222223\n",
      "=========\n",
      "For Specific Gravity 1\n",
      "API is 10.0\n",
      "=========\n",
      "For Specific Gravity 0.2\n",
      "API is 576.0\n",
      "=========\n",
      "The API Gravit List is [576.0, 340.1666666666667, 222.25, 31.143678160919535, 25.72222222222223, 10.0, 576.0]\n",
      "End of API calculations\n"
     ]
    }
   ],
   "source": [
    "api_gravity = []\n",
    "specific_gravity = [0.2,0.3,0.4,0.87,0.9,1, 0.2]\n",
    "for i in specific_gravity:\n",
    "    print(f\"For Specific Gravity {i}\")\n",
    "    API = 141.5/i-131.5\n",
    "    print(f\"API is {API}\")\n",
    "    print(\"=========\")\n",
    "    api_gravity.append(API)\n",
    "print(f\"The API Gravit List is {api_gravity}\")\n",
    "print (f\"End of API calculations\")"
   ]
  },
  {
   "cell_type": "code",
   "execution_count": 164,
   "id": "d2f280d6-ea50-45ae-8cac-7bb975399f69",
   "metadata": {},
   "outputs": [],
   "source": [
    "import matplotlib.pyplot as plt"
   ]
  },
  {
   "cell_type": "code",
   "execution_count": 166,
   "id": "a1a62021-83eb-43ca-9f2a-98febe9578af",
   "metadata": {},
   "outputs": [
    {
     "data": {
      "text/plain": [
       "[<matplotlib.lines.Line2D at 0x27f77a51e10>]"
      ]
     },
     "execution_count": 166,
     "metadata": {},
     "output_type": "execute_result"
    },
    {
     "data": {
      "image/png": "[encoded data removed]",
      "text/plain": [
       "<Figure size 640x480 with 1 Axes>"
      ]
     },
     "metadata": {},
     "output_type": "display_data"
    }
   ],
   "source": [
    "plt.plot(specific_gravity, api_gravity)"
   ]
  },
  {
   "cell_type": "code",
   "execution_count": 188,
   "id": "0f5a4e35-f9cb-44f3-bbba-ad6d253246a3",
   "metadata": {},
   "outputs": [],
   "source": [
    "specific_gravity.sort()\n",
    "api_gravity.sort()"
   ]
  },
  {
   "cell_type": "code",
   "execution_count": 190,
   "id": "d3fe41b6-01b1-4159-9f97-7790d30cbfb9",
   "metadata": {},
   "outputs": [
    {
     "data": {
      "text/plain": [
       "[<matplotlib.lines.Line2D at 0x27f78a40050>]"
      ]
     },
     "execution_count": 190,
     "metadata": {},
     "output_type": "execute_result"
    },
    {
     "data": {
      "image/png": "[encoded data removed]",
      "text/plain": [
       "<Figure size 640x480 with 1 Axes>"
      ]
     },
     "metadata": {},
     "output_type": "display_data"
    }
   ],
   "source": [
    "plt.plot(specific_gravity, api_gravity)"
   ]
  },
  {
   "cell_type": "code",
   "execution_count": 192,
   "id": "7c23080d-8af8-4e05-96c5-6d85e09510bc",
   "metadata": {},
   "outputs": [
    {
     "data": {
      "text/plain": [
       "[<matplotlib.lines.Line2D at 0x27f78687150>]"
      ]
     },
     "execution_count": 192,
     "metadata": {},
     "output_type": "execute_result"
    },
    {
     "data": {
      "image/png": "[encoded data removed]",
      "text/plain": [
       "<Figure size 640x480 with 1 Axes>"
      ]
     },
     "metadata": {},
     "output_type": "display_data"
    }
   ],
   "source": [
    "specific_gravity.sort()\n",
    "api_gravity.sort(reverse=True)\n",
    "plt.plot(specific_gravity, api_gravity)"
   ]
  },
  {
   "cell_type": "code",
   "execution_count": 1,
   "id": "18bdfd51-e1b1-4388-b402-6227df1703f8",
   "metadata": {},
   "outputs": [
    {
     "name": "stdout",
     "output_type": "stream",
     "text": [
      " Permeability value is 10\n",
      "Now, corresponding gravities will be printed\n",
      "For Permeability Value 10, the Specific Gravity is 0.2\n",
      "For Permeability Value 10, the Specific Gravity is 0.3\n",
      "For Permeability Value 10, the Specific Gravity is 0.4\n",
      "For Permeability Value 10, the Specific Gravity is 0.87\n",
      "For Permeability Value 10, the Specific Gravity is 0.9\n",
      "For Permeability Value 10, the Specific Gravity is 1\n",
      "For Permeability Value 10, the Specific Gravity is 0.2\n",
      "==========\n",
      " Permeability value is 23\n",
      "Now, corresponding gravities will be printed\n",
      "For Permeability Value 23, the Specific Gravity is 0.2\n",
      "For Permeability Value 23, the Specific Gravity is 0.3\n",
      "For Permeability Value 23, the Specific Gravity is 0.4\n",
      "For Permeability Value 23, the Specific Gravity is 0.87\n",
      "For Permeability Value 23, the Specific Gravity is 0.9\n",
      "For Permeability Value 23, the Specific Gravity is 1\n",
      "For Permeability Value 23, the Specific Gravity is 0.2\n",
      "==========\n",
      " Permeability value is 30\n",
      "Now, corresponding gravities will be printed\n",
      "For Permeability Value 30, the Specific Gravity is 0.2\n",
      "For Permeability Value 30, the Specific Gravity is 0.3\n",
      "For Permeability Value 30, the Specific Gravity is 0.4\n",
      "For Permeability Value 30, the Specific Gravity is 0.87\n",
      "For Permeability Value 30, the Specific Gravity is 0.9\n",
      "For Permeability Value 30, the Specific Gravity is 1\n",
      "For Permeability Value 30, the Specific Gravity is 0.2\n",
      "==========\n"
     ]
    }
   ],
   "source": [
    "specific_gravity = [0.2,0.3,0.4,0.87,0.9,1, 0.2]\n",
    "perm = [10,23,30]\n",
    "for i in perm:\n",
    "    print (f\" Permeability value is {i}\")\n",
    "    print(\"Now, corresponding gravities will be printed\")\n",
    "    for j in specific_gravity:\n",
    "        print(f\"For Permeability Value {i}, the Specific Gravity is {j}\")\n",
    "    print ('==========')"
   ]
  },
  {
   "cell_type": "code",
   "execution_count": 3,
   "id": "19e443d6-cb29-401c-b9f2-9ee816f06c7d",
   "metadata": {},
   "outputs": [
    {
     "data": {
      "text/plain": [
       "[10, 23, 30]"
      ]
     },
     "execution_count": 3,
     "metadata": {},
     "output_type": "execute_result"
    }
   ],
   "source": [
    "perm "
   ]
  },
  {
   "cell_type": "code",
   "execution_count": 7,
   "id": "32e416d2-8f44-4a4c-b9ed-e70bfb4112c1",
   "metadata": {},
   "outputs": [],
   "source": [
    "porosity = [0.2,0.15,0.17]"
   ]
  },
  {
   "cell_type": "code",
   "execution_count": 9,
   "id": "2c8c46ba-0efa-4ab8-b6a6-0b1d637c7271",
   "metadata": {},
   "outputs": [],
   "source": [
    "field_name = ['Neelam', 'Panna' , 'Volve']\n"
   ]
  },
  {
   "cell_type": "code",
   "execution_count": null,
   "id": "0e2637b1-61e3-4a7f-9dcd-22e095cee5c9",
   "metadata": {},
   "outputs": [],
   "source": [
    "# print = In field ________, the value of porosity (frac) is _______ and perm is ________"
   ]
  },
  {
   "cell_type": "code",
   "execution_count": 15,
   "id": "046c2db6-8055-4cf6-9716-b5a0ce7ad20b",
   "metadata": {},
   "outputs": [
    {
     "name": "stdout",
     "output_type": "stream",
     "text": [
      "In field Neelam, the value of porosity (%) is 20.0, and perm is 10\n",
      "In field Panna, the value of porosity (%) is 15.0, and perm is 23\n",
      "In field Volve, the value of porosity (%) is 17.0, and perm is 30\n"
     ]
    }
   ],
   "source": [
    "for i, j, k in zip(perm,field_name, porosity):\n",
    "    print(f\"In field {j}, the value of porosity (%) is {k*100}, and perm is {i}\")"
   ]
  },
  {
   "cell_type": "markdown",
   "id": "a6802967-cf35-447c-952f-608a24c7eb4e",
   "metadata": {},
   "source": [
    "# if-else: to run a block of code only if certain condidtion holds true\n",
    "\n",
    "* Identation"
   ]
  },
  {
   "cell_type": "code",
   "execution_count": 21,
   "id": "597e9a0e-c4e0-4f94-9c00-58f662316149",
   "metadata": {},
   "outputs": [],
   "source": [
    "if 5 < 2:\n",
    "    print(\"Executed\")\n"
   ]
  },
  {
   "cell_type": "code",
   "execution_count": 23,
   "id": "39c85506-8fd3-4b7a-95cc-aaccd2a2256f",
   "metadata": {},
   "outputs": [
    {
     "name": "stdout",
     "output_type": "stream",
     "text": [
      "Executed\n"
     ]
    }
   ],
   "source": [
    "if 5 > 2:\n",
    "    print(\"Executed\")"
   ]
  },
  {
   "cell_type": "code",
   "execution_count": 25,
   "id": "960f56e5-a771-4d57-abdb-8da5ae6f82be",
   "metadata": {},
   "outputs": [
    {
     "name": "stdout",
     "output_type": "stream",
     "text": [
      "False\n"
     ]
    }
   ],
   "source": [
    "condition = 5 <2\n",
    "print(condition)"
   ]
  },
  {
   "cell_type": "code",
   "execution_count": 27,
   "id": "e9d6946a-b60c-4564-a5bd-ee7bc247e0b4",
   "metadata": {},
   "outputs": [
    {
     "name": "stdout",
     "output_type": "stream",
     "text": [
      "True\n"
     ]
    }
   ],
   "source": [
    "condition = 5 >2\n",
    "print(condition)"
   ]
  },
  {
   "cell_type": "code",
   "execution_count": 29,
   "id": "159b2969-be58-4d9d-ab13-8cdf96cdd64e",
   "metadata": {},
   "outputs": [
    {
     "name": "stdout",
     "output_type": "stream",
     "text": [
      "If is executed\n"
     ]
    }
   ],
   "source": [
    "if condition: \n",
    "    print(\"If is executed\")\n",
    "else:\n",
    "    print(\"Else is executed\")"
   ]
  },
  {
   "cell_type": "code",
   "execution_count": null,
   "id": "bdff2b6d-d22c-4482-8b76-3334452a980c",
   "metadata": {},
   "outputs": [],
   "source": []
  },
  {
   "cell_type": "code",
   "execution_count": null,
   "id": "3eaa24ea-ff34-4e4d-a5a7-b9325f4134d7",
   "metadata": {},
   "outputs": [],
   "source": []
  }
 ],
 "metadata": {
  "kernelspec": {
   "display_name": "Python 3 (ipykernel)",
   "language": "python",
   "name": "python3"
  },
  "language_info": {
   "codemirror_mode": {
    "name": "ipython",
    "version": 3
   },
   "file_extension": ".py",
   "mimetype": "text/x-python",
   "name": "python",
   "nbconvert_exporter": "python",
   "pygments_lexer": "ipython3",
   "version": "3.11.7"
  }
 },
 "nbformat": 4,
 "nbformat_minor": 5
}
